{
 "cells": [
  {
   "cell_type": "code",
   "execution_count": 1,
   "id": "1960e52b",
   "metadata": {},
   "outputs": [],
   "source": [
    "import pandas as pd"
   ]
  },
  {
   "cell_type": "code",
   "execution_count": 4,
   "id": "12bdecbc",
   "metadata": {},
   "outputs": [],
   "source": [
    "df = pd.read_csv('SUM_AMT_by_div_store_gtin_Synapse_12162022.csv') #storing file in dataframe."
   ]
  },
  {
   "cell_type": "code",
   "execution_count": 5,
   "id": "2ca65430",
   "metadata": {},
   "outputs": [
    {
     "data": {
      "text/html": [
       "<div>\n",
       "<style scoped>\n",
       "    .dataframe tbody tr th:only-of-type {\n",
       "        vertical-align: middle;\n",
       "    }\n",
       "\n",
       "    .dataframe tbody tr th {\n",
       "        vertical-align: top;\n",
       "    }\n",
       "\n",
       "    .dataframe thead th {\n",
       "        text-align: right;\n",
       "    }\n",
       "</style>\n",
       "<table border=\"1\" class=\"dataframe\">\n",
       "  <thead>\n",
       "    <tr style=\"text-align: right;\">\n",
       "      <th></th>\n",
       "      <th>MGT_DIV_NO</th>\n",
       "      <th>STO_NO</th>\n",
       "      <th>GTIN_NO</th>\n",
       "      <th>SUM_RTL_DOL_AM</th>\n",
       "      <th>COUNTS</th>\n",
       "    </tr>\n",
       "  </thead>\n",
       "  <tbody>\n",
       "    <tr>\n",
       "      <th>0</th>\n",
       "      <td>11</td>\n",
       "      <td>2</td>\n",
       "      <td>23661120000</td>\n",
       "      <td>210.58</td>\n",
       "      <td>32</td>\n",
       "    </tr>\n",
       "    <tr>\n",
       "      <th>1</th>\n",
       "      <td>11</td>\n",
       "      <td>2</td>\n",
       "      <td>22585600000</td>\n",
       "      <td>6533.29</td>\n",
       "      <td>946</td>\n",
       "    </tr>\n",
       "    <tr>\n",
       "      <th>2</th>\n",
       "      <td>11</td>\n",
       "      <td>2</td>\n",
       "      <td>21708560000</td>\n",
       "      <td>351.39</td>\n",
       "      <td>154</td>\n",
       "    </tr>\n",
       "    <tr>\n",
       "      <th>3</th>\n",
       "      <td>11</td>\n",
       "      <td>2</td>\n",
       "      <td>28716120000</td>\n",
       "      <td>182.96</td>\n",
       "      <td>39</td>\n",
       "    </tr>\n",
       "    <tr>\n",
       "      <th>4</th>\n",
       "      <td>11</td>\n",
       "      <td>2</td>\n",
       "      <td>7317032700</td>\n",
       "      <td>6895.54</td>\n",
       "      <td>441</td>\n",
       "    </tr>\n",
       "    <tr>\n",
       "      <th>...</th>\n",
       "      <td>...</td>\n",
       "      <td>...</td>\n",
       "      <td>...</td>\n",
       "      <td>...</td>\n",
       "      <td>...</td>\n",
       "    </tr>\n",
       "    <tr>\n",
       "      <th>703880</th>\n",
       "      <td>708</td>\n",
       "      <td>789</td>\n",
       "      <td>22570730000</td>\n",
       "      <td>97.70</td>\n",
       "      <td>16</td>\n",
       "    </tr>\n",
       "    <tr>\n",
       "      <th>703881</th>\n",
       "      <td>708</td>\n",
       "      <td>789</td>\n",
       "      <td>21575440000</td>\n",
       "      <td>900.16</td>\n",
       "      <td>148</td>\n",
       "    </tr>\n",
       "    <tr>\n",
       "      <th>703882</th>\n",
       "      <td>708</td>\n",
       "      <td>789</td>\n",
       "      <td>84013430120</td>\n",
       "      <td>105493.31</td>\n",
       "      <td>13087</td>\n",
       "    </tr>\n",
       "    <tr>\n",
       "      <th>703883</th>\n",
       "      <td>708</td>\n",
       "      <td>789</td>\n",
       "      <td>29585440000</td>\n",
       "      <td>214.27</td>\n",
       "      <td>49</td>\n",
       "    </tr>\n",
       "    <tr>\n",
       "      <th>703884</th>\n",
       "      <td>708</td>\n",
       "      <td>789</td>\n",
       "      <td>26719230000</td>\n",
       "      <td>74.34</td>\n",
       "      <td>26</td>\n",
       "    </tr>\n",
       "  </tbody>\n",
       "</table>\n",
       "<p>703885 rows × 5 columns</p>\n",
       "</div>"
      ],
      "text/plain": [
       "        MGT_DIV_NO  STO_NO      GTIN_NO  SUM_RTL_DOL_AM  COUNTS\n",
       "0               11       2  23661120000          210.58      32\n",
       "1               11       2  22585600000         6533.29     946\n",
       "2               11       2  21708560000          351.39     154\n",
       "3               11       2  28716120000          182.96      39\n",
       "4               11       2   7317032700         6895.54     441\n",
       "...            ...     ...          ...             ...     ...\n",
       "703880         708     789  22570730000           97.70      16\n",
       "703881         708     789  21575440000          900.16     148\n",
       "703882         708     789  84013430120       105493.31   13087\n",
       "703883         708     789  29585440000          214.27      49\n",
       "703884         708     789  26719230000           74.34      26\n",
       "\n",
       "[703885 rows x 5 columns]"
      ]
     },
     "execution_count": 5,
     "metadata": {},
     "output_type": "execute_result"
    }
   ],
   "source": [
    "df "
   ]
  },
  {
   "cell_type": "code",
   "execution_count": 7,
   "id": "ca30f462",
   "metadata": {},
   "outputs": [
    {
     "data": {
      "text/plain": [
       "2084"
      ]
     },
     "execution_count": 7,
     "metadata": {},
     "output_type": "execute_result"
    }
   ],
   "source": [
    "len(set(df['GTIN_NO'])) # len=count, set = distinct"
   ]
  },
  {
   "cell_type": "code",
   "execution_count": 8,
   "id": "effd6b91",
   "metadata": {},
   "outputs": [],
   "source": [
    "a = df['GTIN_NO'].unique() #assigning vairable to gtin"
   ]
  },
  {
   "cell_type": "code",
   "execution_count": 9,
   "id": "53450319",
   "metadata": {},
   "outputs": [
    {
     "data": {
      "text/plain": [
       "array([23661120000, 22585600000, 21708560000, ..., 26661860000,\n",
       "       24719550000, 23709310000], dtype=int64)"
      ]
     },
     "execution_count": 9,
     "metadata": {},
     "output_type": "execute_result"
    }
   ],
   "source": [
    "a"
   ]
  },
  {
   "cell_type": "code",
   "execution_count": 10,
   "id": "0a4fd5b9",
   "metadata": {},
   "outputs": [],
   "source": [
    "s=pd.Series(a) #converting to column"
   ]
  },
  {
   "cell_type": "code",
   "execution_count": 11,
   "id": "36b094da",
   "metadata": {},
   "outputs": [
    {
     "data": {
      "text/plain": [
       "0       23661120000\n",
       "1       22585600000\n",
       "2       21708560000\n",
       "3       28716120000\n",
       "4        7317032700\n",
       "           ...     \n",
       "2079    23593330000\n",
       "2080    24706410000\n",
       "2081    26661860000\n",
       "2082    24719550000\n",
       "2083    23709310000\n",
       "Length: 2084, dtype: int64"
      ]
     },
     "execution_count": 11,
     "metadata": {},
     "output_type": "execute_result"
    }
   ],
   "source": [
    "s"
   ]
  },
  {
   "cell_type": "code",
   "execution_count": 12,
   "id": "11644f29",
   "metadata": {},
   "outputs": [],
   "source": [
    "s.to_csv('GTINS_that_are_present_in_Synapse.csv')"
   ]
  },
  {
   "cell_type": "code",
   "execution_count": null,
   "id": "a5d18ed7",
   "metadata": {},
   "outputs": [],
   "source": []
  }
 ],
 "metadata": {
  "kernelspec": {
   "display_name": "Python 3 (ipykernel)",
   "language": "python",
   "name": "python3"
  },
  "language_info": {
   "codemirror_mode": {
    "name": "ipython",
    "version": 3
   },
   "file_extension": ".py",
   "mimetype": "text/x-python",
   "name": "python",
   "nbconvert_exporter": "python",
   "pygments_lexer": "ipython3",
   "version": "3.9.5"
  }
 },
 "nbformat": 4,
 "nbformat_minor": 5
}
