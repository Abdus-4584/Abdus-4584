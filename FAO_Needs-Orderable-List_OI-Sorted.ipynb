{
 "cells": [
  {
   "cell_type": "code",
   "execution_count": 1,
   "id": "a333d9d2",
   "metadata": {},
   "outputs": [],
   "source": [
    "import pyodbc\n",
    "import pandas as pd\n",
    "import adal"
   ]
  },
  {
   "cell_type": "code",
   "execution_count": 2,
   "id": "d254a7f6",
   "metadata": {},
   "outputs": [
    {
     "name": "stdout",
     "output_type": "stream",
     "text": [
      "\n",
      "\n",
      "Connected to Database.\n"
     ]
    }
   ],
   "source": [
    "# Connecting to DB TEST\n",
    "server =\"test41-eus2-ins-sqlepi-orderinteraction.database.windows.net\"\n",
    "database=\"FreshRWOAPIBufferTestDB\" \n",
    "username=\"abdus.samad@kroger.com\"\n",
    "Authentication='ActiveDirectoryInteractive'\n",
    "src_conn = pyodbc.connect(\n",
    "        \"DRIVER={ODBC Driver 17 for SQL Server};SERVER=\"\n",
    "        + server\n",
    "        + \";DATABASE=\"\n",
    "        + database\n",
    "        + \";UID=\"\n",
    "        + username\n",
    "        + \";AUTHENTICATION=\"\n",
    "        + Authentication\n",
    "    )\n",
    "print(\"\\n\\nConnected to Database.\")"
   ]
  },
  {
   "cell_type": "code",
   "execution_count": 3,
   "id": "7bc897e6",
   "metadata": {},
   "outputs": [],
   "source": [
    "# Define columns to compare\n",
    "cols_to_compare = [\"TRIM(C.CON_DSC_TX) AS ItemDescription\",                   \n",
    "                   \"D.CON_TYP_CD AS UPC_Type\",                   \n",
    "                   \"CASE WHEN I.FYT_REC_DPT_CD IN ('15','56','73') THEN '10' ELSE I.FYT_REC_DPT_CD END AS DepartmentNumber\",                    \n",
    "                   \"H.FYT_SUB_DPT_CD AS MerchandisingFamilyNumber\",                    \n",
    "                   \"G.FYT_COM_CD AS MerchandisingCategoryNumber\",                    \n",
    "                   \"E.CAS_NET_WGT_AM AS CaseSize\",                   \n",
    "                   \"E.SHP_PAK_QY AS Quantity\",\n",
    "                   \"B.QPS_SCN_CD AS ScanCode\",]\n"
   ]
  },
  {
   "cell_type": "code",
   "execution_count": 4,
   "id": "c391bb02",
   "metadata": {},
   "outputs": [],
   "source": [
    "# Define table names\n",
    "table_names =  ['[dbo].[NRM_CON_UPC_STO_PRC_034]'\n",
    ",'[dbo].[NRM_CON_UPC_STO_PRC_014]'\n",
    ",'[dbo].[NRM_CON_UPC_STO_PRC_011]'\n",
    ",'[dbo].[NRM_CON_UPC_STO_PRC_021]'\n",
    ",'[dbo].[NRM_CON_UPC_STO_PRC_016]'\n",
    ",'[dbo].[NRM_CON_UPC_STO_PRC_018]'\n",
    ",'[dbo].[NRM_CON_UPC_STO_PRC_024]'\n",
    ",'[dbo].[NRM_CON_UPC_STO_PRC_025]'\n",
    ",'[dbo].[NRM_CON_UPC_STO_PRC_026]'\n",
    ",'[dbo].[NRM_CON_UPC_STO_PRC_029]'\n",
    ",'[dbo].[NRM_CON_UPC_STO_PRC_035]'\n",
    ",'[dbo].[NRM_CON_UPC_STO_PRC_531]'\n",
    ",'[dbo].[NRM_CON_UPC_STO_PRC_534]'\n",
    ",'[dbo].[NRM_CON_UPC_STO_PRC_615]'\n",
    ",'[dbo].[NRM_CON_UPC_STO_PRC_620]'\n",
    ",'[dbo].[NRM_CON_UPC_STO_PRC_660]'\n",
    ",'[dbo].[NRM_CON_UPC_STO_PRC_701]'\n",
    ",'[dbo].[NRM_CON_UPC_STO_PRC_703]'\n",
    ",'[dbo].[NRM_CON_UPC_STO_PRC_704]'\n",
    ",'[dbo].[NRM_CON_UPC_STO_PRC_705]'\n",
    ",'[dbo].[NRM_CON_UPC_STO_PRC_706]'\n",
    ",'[dbo].[NRM_CON_UPC_STO_PRC_708]']"
   ]
  },
  {
   "cell_type": "code",
   "execution_count": 5,
   "id": "2ecda081",
   "metadata": {},
   "outputs": [],
   "source": [
    "import warnings\n",
    "\n",
    "warnings.filterwarnings('ignore')"
   ]
  },
  {
   "cell_type": "code",
   "execution_count": 6,
   "id": "a8177aee",
   "metadata": {},
   "outputs": [],
   "source": [
    "#Run dataset for only 122 mismatch Items. so that dataset is sorted and in one place.\n",
    "common_upcs = ['0003150659502' ,'0001111060263' ,'0007210625658' ,'0002370001511' ,'0004172302341' ,'0004660002941' ,'0003150662642' ,'0003150656027' ,'0001111095557' ,'0002370051555' ,'0003150659302' ,'0003560005154' ,'0003907368522' ,'0004660003121' ,'0069511960009' ,'0001115052625' ,'0003150662303' ,'0001111099415' ,'0007030903252' ,'0004660002901' ,'0007111700188' ,'0003150652822' ,'0078620261520' ,'0078620261519' ,'0001111060365' ,'0003150656001' ,'0003318601110' ,'0001111099498' ,'0004660004120' ,'0003907304055' ,'0001115078596' ,'0001115004848' ,'0064523001106' ,'0069511946505' ,'0004530035009' ,'0001115078595' ,'0003150653302' ,'0007597110901' ,'0001111019000' ,'0001111058675' ,'0002540004133' ,'0002781530249' ,'0003150663901' ,'0069511940419' ,'0069511934660' ,'0001111018103' ,'0001111060328' ,'0003150669802' ,'0007111714134' ,'0007030901112' ,'0001111037260' ,'0003907301907' ,'0001111061627' ,'0003907304050' ,'0003907302161' ,'0001111060271' ,'0004530018588' ,'0001111060274' ,'0002265532007' ,'0003150657202' ,'0001115078640' ,'0003150662402' ,'0003150661602' ,'0007597112980' ,'0001111095558' ,'0078620262750' ,'0001111000041' ,'0003150666302' ,'0002370057085' ,'0001111074214' ,'0001111099501' ,'0003907304208' ,'0003150642002' ,'0007320241518' ,'0008837403024' ,'0003150613102' ,'0004660002515' ,'0003234512064' ,'0078620262907' ,'0007320241519' ,'0002781559709' ,'0003150663502' ,'0084013430706' ,'0003150676401' ,'0001111007037' ,'0001111092012' ,'0007750901250' ,'0001111060540' ,'0001115078630' ,'0003150663512' ,'0078620261518' ,'0003150656703' ,'0001111011213' ,'0004320017175' ,'0001111058362' ,'0002781530252' ,'0003150661802' ,'0003150657401' ,'0069511960042' ,'0003150663102' ,'0002265527312' ,'0000205591902' ,'0001111009763' ,'0003861636017' ,'0001111074079' ,'0001111052230' ,'0004660002471' ,'0002781500868' ,'0002265529032' ,'0007030901122' ,'0002781530253' ,'0007111711441' ,'0001111018106' ,'0001111003861' ,'0001111060734' ,'0001111058667' ,'0001111095559' ,'0001111099024' ,'0085466100130' ,'0003150677001' ,'0007283002501' ,'0007111711439']"
   ]
  },
  {
   "cell_type": "code",
   "execution_count": 7,
   "id": "edb823ae",
   "metadata": {},
   "outputs": [
    {
     "name": "stdout",
     "output_type": "stream",
     "text": [
      "Number of common UPCs:  122\n"
     ]
    }
   ],
   "source": [
    "print(\"Number of common UPCs: \", len(common_upcs))\n",
    "#common_upcs_15 = common_upcs[:15]\n",
    "#print(common_upcs_15)"
   ]
  },
  {
   "cell_type": "code",
   "execution_count": 8,
   "id": "05f339fc",
   "metadata": {},
   "outputs": [],
   "source": [
    "# Convert common_upcs to a list of quoted strings\n",
    "quoted_upcs = [f\"'{upc}'\" for upc in common_upcs]"
   ]
  },
  {
   "cell_type": "code",
   "execution_count": 9,
   "id": "f3c769e2",
   "metadata": {},
   "outputs": [
    {
     "name": "stdout",
     "output_type": "stream",
     "text": [
      "Query run complete!!\n",
      "Query run complete!!\n",
      "Query run complete!!\n",
      "Query run complete!!\n",
      "Query run complete!!\n",
      "Query run complete!!\n",
      "Query run complete!!\n",
      "Query run complete!!\n",
      "Query run complete!!\n",
      "Query run complete!!\n",
      "Query run complete!!\n",
      "Query run complete!!\n",
      "Query run complete!!\n",
      "Query run complete!!\n",
      "Query run complete!!\n",
      "Query run complete!!\n",
      "Query run complete!!\n",
      "Query run complete!!\n",
      "Query run complete!!\n",
      "Query run complete!!\n",
      "Query run complete!!\n",
      "Query run complete!!\n"
     ]
    }
   ],
   "source": [
    "# Define empty list to store dataframes for each table --- ADD TABLE NAME TO RECORDS FOR ANALYSIS\n",
    "df_list = []\n",
    "# Loop through each table to fetch data for common UPCs\n",
    "for table in table_names:\n",
    "    query = f\"\"\"\n",
    "        SELECT DISTINCT {table}.CON_UPC_NO, {','.join(cols_to_compare)} FROM {table} INNER JOIN NRM_BAS_UPC B ON {table}.BAS_UPC_ID = B.BAS_UPC_ID INNER JOIN NRM_CON_UPC C ON B.CON_UPC_NO = C.CON_UPC_NO INNER JOIN NRM_CAS_CON_UPC D ON C.CON_UPC_ID = D.CON_UPC_ID INNER JOIN NRM_CAS_UPC E ON D.CAS_UPC_ID = E.CAS_UPC_ID INNER JOIN NRM_FYT_SCM F ON E.FYT_SUB_COM_ID = F.FYT_SUB_COM_ID INNER JOIN NRM_FYT_COM G ON G.FYT_COM_ID = F.FYT_COM_ID INNER JOIN NRM_FYT_SUB_DPT H ON H.FYT_SUB_DPT_ID = G.FYT_SUB_DPT_ID INNER JOIN NRM_FYT_REC_DPT I ON I.FYT_REC_DPT_ID = H.FYT_REC_DPT_ID WHERE H.FYT_SUB_DPT_CD IN ('15','56','73') AND D.CON_TYP_CD = '1' AND B.QPS_SCN_CD IN ('W', 'S', 'C') AND {table}.CON_ITM_STU_CD IN ('I', 'A') AND I.FYT_REC_DPT_CD IN ('15','56','73') AND G.FYT_COM_CD IN ('450','451','463','456','457') \n",
    "        AND {table}.CON_UPC_NO IN ({','.join(quoted_upcs)})\n",
    "        \"\"\"\n",
    "    df = pd.read_sql(query, src_conn)\n",
    "    df['table_names'] = table\n",
    "    df_list.append(df)\n",
    "    print(\"Query run complete!!\")"
   ]
  },
  {
   "cell_type": "code",
   "execution_count": 10,
   "id": "5dee72a3",
   "metadata": {},
   "outputs": [],
   "source": [
    "# Merge dataframes on UPC column\n",
    "df_merged = pd.concat(df_list).reset_index(drop=True)\n",
    "# Group by UPC and compare values\n",
    "df_grouped = df_merged.groupby('CON_UPC_NO',).nunique().max(axis=1)[1:]"
   ]
  },
  {
   "cell_type": "code",
   "execution_count": 11,
   "id": "3178f529",
   "metadata": {},
   "outputs": [],
   "source": [
    "# Combine all dataframes into a single dataframe\n",
    "df = pd.concat(df_list)"
   ]
  },
  {
   "cell_type": "code",
   "execution_count": 16,
   "id": "fd2fe553",
   "metadata": {},
   "outputs": [],
   "source": [
    "# Sort the final dataframe by 'CON_UPC_NO'\n",
    "df = df.sort_values(['CON_UPC_NO','table_names'])"
   ]
  },
  {
   "cell_type": "code",
   "execution_count": 17,
   "id": "9567c001",
   "metadata": {},
   "outputs": [],
   "source": [
    "df.to_csv(\"C:\\\\Users\\\\AS81970\\\\Desktop\\\\output_with_table.csv\", index=False)"
   ]
  },
  {
   "cell_type": "code",
   "execution_count": 14,
   "id": "96133fb4",
   "metadata": {},
   "outputs": [
    {
     "name": "stdout",
     "output_type": "stream",
     "text": [
      "Data mismatches found:\n",
      "UPC 0078620262907 has mismatches in table.\n",
      "UPC 0001111095559 has mismatches in table.\n",
      "UPC 0003150662303 has mismatches in table.\n",
      "UPC 0007320241519 has mismatches in table.\n",
      "UPC 0001111058362 has mismatches in table.\n",
      "UPC 0004660002515 has mismatches in table.\n",
      "UPC 0001111058667 has mismatches in table.\n",
      "UPC 0007111700188 has mismatches in table.\n",
      "UPC 0003150657401 has mismatches in table.\n",
      "UPC 0000205591902 has mismatches in table.\n",
      "UPC 0078620261519 has mismatches in table.\n",
      "UPC 0008837403024 has mismatches in table.\n",
      "UPC 0003150656703 has mismatches in table.\n",
      "UPC 0001115052625 has mismatches in table.\n",
      "UPC 0069511960009 has mismatches in table.\n",
      "UPC 0001115078596 has mismatches in table.\n",
      "UPC 0003150656027 has mismatches in table.\n",
      "UPC 0003150656001 has mismatches in table.\n",
      "UPC 0001115078630 has mismatches in table.\n",
      "UPC 0001115004848 has mismatches in table.\n",
      "UPC 0003907304055 has mismatches in table.\n",
      "UPC 0003150666302 has mismatches in table.\n",
      "UPC 0004320017175 has mismatches in table.\n",
      "UPC 0003318601110 has mismatches in table.\n",
      "UPC 0004172302341 has mismatches in table.\n",
      "UPC 0001111009763 has mismatches in table.\n",
      "UPC 0069511934660 has mismatches in table.\n",
      "UPC 0003150659302 has mismatches in table.\n",
      "UPC 0007597110901 has mismatches in table.\n",
      "UPC 0003150662642 has mismatches in table.\n",
      "UPC 0003861636017 has mismatches in table.\n",
      "UPC 0002265532007 has mismatches in table.\n",
      "UPC 0002781530249 has mismatches in table.\n",
      "UPC 0003150663512 has mismatches in table.\n",
      "UPC 0004660002941 has mismatches in table.\n",
      "UPC 0002781530253 has mismatches in table.\n",
      "UPC 0007210625658 has mismatches in table.\n",
      "UPC 0002781530252 has mismatches in table.\n",
      "UPC 0007030903252 has mismatches in table.\n",
      "UPC 0002370001511 has mismatches in table.\n",
      "UPC 0001111037260 has mismatches in table.\n",
      "UPC 0002781559709 has mismatches in table.\n",
      "UPC 0007750901250 has mismatches in table.\n",
      "UPC 0003150677001 has mismatches in table.\n",
      "UPC 0007111711439 has mismatches in table.\n",
      "UPC 0001111060540 has mismatches in table.\n",
      "UPC 0064523001106 has mismatches in table.\n",
      "UPC 0003150663102 has mismatches in table.\n",
      "UPC 0001111018103 has mismatches in table.\n",
      "UPC 0001111060734 has mismatches in table.\n",
      "UPC 0007283002501 has mismatches in table.\n",
      "UPC 0002265527312 has mismatches in table.\n",
      "UPC 0001111092012 has mismatches in table.\n",
      "UPC 0084013430706 has mismatches in table.\n",
      "UPC 0003150659502 has mismatches in table.\n",
      "UPC 0004660003121 has mismatches in table.\n",
      "UPC 0001111095558 has mismatches in table.\n",
      "UPC 0007320241518 has mismatches in table.\n",
      "UPC 0001111060271 has mismatches in table.\n",
      "UPC 0001115078595 has mismatches in table.\n",
      "UPC 0001111061627 has mismatches in table.\n",
      "UPC 0001111052230 has mismatches in table.\n",
      "UPC 0004660002471 has mismatches in table.\n",
      "UPC 0002265529032 has mismatches in table.\n",
      "UPC 0004660002901 has mismatches in table.\n",
      "UPC 0003907368522 has mismatches in table.\n",
      "UPC 0002540004133 has mismatches in table.\n",
      "UPC 0003150661802 has mismatches in table.\n",
      "UPC 0001111074079 has mismatches in table.\n",
      "UPC 0003907302161 has mismatches in table.\n",
      "UPC 0003907304208 has mismatches in table.\n",
      "UPC 0085466100130 has mismatches in table.\n",
      "UPC 0001111099498 has mismatches in table.\n",
      "UPC 0004530035009 has mismatches in table.\n",
      "UPC 0003907304050 has mismatches in table.\n",
      "UPC 0001111099415 has mismatches in table.\n",
      "UPC 0001111099501 has mismatches in table.\n",
      "UPC 0003150652822 has mismatches in table.\n",
      "UPC 0003150663901 has mismatches in table.\n",
      "UPC 0002370051555 has mismatches in table.\n",
      "UPC 0001115078640 has mismatches in table.\n",
      "UPC 0001111074214 has mismatches in table.\n",
      "UPC 0001111058675 has mismatches in table.\n",
      "UPC 0003560005154 has mismatches in table.\n",
      "UPC 0003150661602 has mismatches in table.\n",
      "UPC 0001111018106 has mismatches in table.\n",
      "UPC 0004660004120 has mismatches in table.\n",
      "UPC 0001111007037 has mismatches in table.\n",
      "UPC 0004530018588 has mismatches in table.\n",
      "UPC 0001111003861 has mismatches in table.\n",
      "UPC 0007030901112 has mismatches in table.\n",
      "UPC 0078620262750 has mismatches in table.\n",
      "UPC 0003150676401 has mismatches in table.\n",
      "UPC 0002781500868 has mismatches in table.\n",
      "UPC 0003150642002 has mismatches in table.\n",
      "UPC 0007030901122 has mismatches in table.\n",
      "UPC 0001111000041 has mismatches in table.\n",
      "UPC 0001111095557 has mismatches in table.\n",
      "UPC 0003150613102 has mismatches in table.\n",
      "UPC 0078620261518 has mismatches in table.\n",
      "UPC 0069511946505 has mismatches in table.\n",
      "UPC 0007597112980 has mismatches in table.\n",
      "UPC 0001111099024 has mismatches in table.\n",
      "UPC 0001111060263 has mismatches in table.\n",
      "UPC 0001111011213 has mismatches in table.\n",
      "UPC 0069511940419 has mismatches in table.\n",
      "UPC 0003150669802 has mismatches in table.\n",
      "UPC 0003150662402 has mismatches in table.\n",
      "UPC 0003150663502 has mismatches in table.\n",
      "UPC 0003234512064 has mismatches in table.\n",
      "UPC 0078620261520 has mismatches in table.\n",
      "UPC 0003150653302 has mismatches in table.\n",
      "UPC 0001111060365 has mismatches in table.\n",
      "UPC 0001111019000 has mismatches in table.\n",
      "UPC 0003907301907 has mismatches in table.\n",
      "UPC 0007111711441 has mismatches in table.\n",
      "UPC 0007111714134 has mismatches in table.\n",
      "UPC 0069511960042 has mismatches in table.\n",
      "UPC 0001111060274 has mismatches in table.\n",
      "UPC 0001111060328 has mismatches in table.\n",
      "UPC 0002370057085 has mismatches in table.\n",
      "UPC 0003150657202 has mismatches in table.\n"
     ]
    }
   ],
   "source": [
    "# Group the data by UPC and compare the values for each column\n",
    "grouped = df.groupby('CON_UPC_NO',)\n",
    "mismatches = []\n",
    "for upc, group in grouped:\n",
    "    ref_row = group.iloc[0]\n",
    "    for _, row in group.iterrows():\n",
    "        if not ref_row.equals(row.fillna(ref_row)):\n",
    "            mismatches.append(upc)\n",
    "\n",
    "if not mismatches:\n",
    "    print(\"All data matches.\")\n",
    "else:\n",
    "    print(\"Data mismatches found:\")\n",
    "    for upc in set(mismatches):\n",
    "        print(f\"UPC {upc} has mismatches in table.\")\n"
   ]
  },
  {
   "cell_type": "code",
   "execution_count": null,
   "id": "079d10e4",
   "metadata": {},
   "outputs": [],
   "source": []
  }
 ],
 "metadata": {
  "kernelspec": {
   "display_name": "venv",
   "language": "python",
   "name": "venv"
  },
  "language_info": {
   "codemirror_mode": {
    "name": "ipython",
    "version": 3
   },
   "file_extension": ".py",
   "mimetype": "text/x-python",
   "name": "python",
   "nbconvert_exporter": "python",
   "pygments_lexer": "ipython3",
   "version": "3.9.5"
  }
 },
 "nbformat": 4,
 "nbformat_minor": 5
}
