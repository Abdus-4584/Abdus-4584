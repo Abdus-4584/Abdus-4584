{
 "cells": [
  {
   "cell_type": "code",
   "execution_count": 122,
   "metadata": {},
   "outputs": [],
   "source": [
    "import xml.etree.cElementTree as et\n",
    "import pandas as pd\n",
    "import os\n",
    "import warnings\n",
    "from lxml import etree\n",
    "import pyodbc\n",
    "import pyvalidata as pvd\n",
    "import hashlib\n",
    "import ibm_db_dbi as idb\n",
    "import time\n",
    "import datetime\n",
    "import pyvalidata as pvd\n",
    "from pathlib import Path\n",
    "import datetime as dt\n",
    "from dotenv import load_dotenv"
   ]
  },
  {
   "cell_type": "code",
   "execution_count": 123,
   "metadata": {},
   "outputs": [
    {
     "data": {
      "text/plain": [
       "True"
      ]
     },
     "execution_count": 123,
     "metadata": {},
     "output_type": "execute_result"
    }
   ],
   "source": [
    "load_dotenv(verbose=True)"
   ]
  },
  {
   "cell_type": "code",
   "execution_count": 124,
   "metadata": {},
   "outputs": [],
   "source": [
    "warnings.filterwarnings(action=\"ignore\", category=UserWarning)\n",
    "warnings.filterwarnings(action=\"ignore\", category=FutureWarning)\n",
    "warnings.filterwarnings(action=\"ignore\", category=DeprecationWarning)\n"
   ]
  },
  {
   "cell_type": "markdown",
   "metadata": {},
   "source": [
    "# Input"
   ]
  },
  {
   "cell_type": "code",
   "execution_count": 125,
   "metadata": {},
   "outputs": [],
   "source": [
    "folder_path=r'S:\\iss\\QA\\QACOE_PythonProjects\\Xml_validation\\20230331'"
   ]
  },
  {
   "cell_type": "code",
   "execution_count": null,
   "metadata": {},
   "outputs": [],
   "source": []
  },
  {
   "cell_type": "markdown",
   "metadata": {},
   "source": [
    "# Database Connections"
   ]
  },
  {
   "cell_type": "code",
   "execution_count": 126,
   "metadata": {},
   "outputs": [
    {
     "name": "stdout",
     "output_type": "stream",
     "text": [
      "\n",
      "\n",
      "Connected to KCMS Test Database.\n"
     ]
    }
   ],
   "source": [
    "# KCMS test\n",
    "\n",
    "kcms_hostname = \"u060dwd21\"\n",
    "kcms_database = \"UDBINT\"\n",
    "kcms_port = \"50000\"\n",
    "kcms_protocol = \"TCPIP\"\n",
    "kcms_username = os.environ.get('kcms_UID')\n",
    "kcms_password = os.environ.get('kcms_PWD')\n",
    "kcms_conn_str = \"DATABASE=\" f\"{kcms_database}\" \";\" \"HOSTNAME=\" f\"{kcms_hostname}\" \";\" \"PORT=\" f\"{kcms_port}\" \";\" \"PROTOCOL=\" f\"{kcms_protocol}\" \";\" \"UID=\" f\"{kcms_username}\" \";\" \"PWD=\" f\"{kcms_password}\" \";\"\n",
    "kcmst_conn = idb.connect(kcms_conn_str, \"\", \"\")\n",
    "print(\"\\n\\nConnected to KCMS Test Database.\")"
   ]
  },
  {
   "cell_type": "code",
   "execution_count": 127,
   "metadata": {},
   "outputs": [
    {
     "name": "stdout",
     "output_type": "stream",
     "text": [
      "\n",
      "\n",
      "Connected to KODS Database.\n"
     ]
    }
   ],
   "source": [
    "# KODS Prod\n",
    "\n",
    "kods_hostname = \"u060odsd101.kroger.com\"\n",
    "kods_database = \"ODSPROD\"\n",
    "kods_port = \"50000\"\n",
    "kods_protocol = \"TCPIP\"\n",
    "kods_username = os.environ.get('kods_UID')\n",
    "kods_password = os.environ.get('kods_PWD')\n",
    "kods_conn_str = \"DATABASE=\" f\"{kods_database}\" \";\" \"HOSTNAME=\" f\"{kods_hostname}\" \";\" \"PORT=\" f\"{kods_port}\" \";\" \"PROTOCOL=\" f\"{kods_protocol}\" \";\" \"UID=\" f\"{kods_username}\" \";\" \"PWD=\" f\"{kods_password}\" \";\"\n",
    "kods_conn = idb.connect(kods_conn_str, \"\", \"\")\n",
    "print(\"\\n\\nConnected to KODS Database.\")"
   ]
  },
  {
   "cell_type": "code",
   "execution_count": null,
   "metadata": {},
   "outputs": [],
   "source": []
  },
  {
   "cell_type": "code",
   "execution_count": null,
   "metadata": {},
   "outputs": [],
   "source": []
  },
  {
   "cell_type": "code",
   "execution_count": 128,
   "metadata": {},
   "outputs": [],
   "source": [
    "def read_large_sql(query, conn, n):\n",
    "    dfs = []\n",
    "    for chunk in pd.read_sql_query(query, con=conn, chunksize=n):\n",
    "        dfs.append(chunk)\n",
    "    return pd.concat(dfs)"
   ]
  },
  {
   "cell_type": "code",
   "execution_count": 129,
   "metadata": {},
   "outputs": [],
   "source": [
    "def get_order_group(xmlfiles):    \n",
    "    ordergroupdict={}\n",
    "    for xmlfile in xmlfiles:\n",
    "        xml_file_path = os.path.join(folder_path,xmlfile)\n",
    "        tree=et.parse(xml_file_path)\n",
    "        root=tree.getroot()\n",
    "\n",
    "#         print(f\"Processing file :{xmlfile}\") \n",
    "        for l1, Transaction in enumerate(root.findall('Transaction')): \n",
    "                ref_count = 0\n",
    "                sale_count = 0\n",
    "                root1=Transaction\n",
    "                seq = Transaction.find('SequenceNumber').text\n",
    "                for l2, ordno in enumerate(root.iter('OrderNumber')):\n",
    "                    ordno = ordno.text\n",
    "#                 if ordergroupdict.get(ordno,'x')=='x':                \n",
    "#                     ordergroupdict[ordno]={}\n",
    "#                     elist=[]\n",
    "#                     ordergroupdict[ordno]['refundxml']=elist\n",
    "#                 for l3, LineItem in enumerate(root.iter('LineItem')):\n",
    "#                     root1=LineItem\n",
    "#                     if(root1.findall('Sale')):\n",
    "#                         for l5, sale in enumerate(root1.findall('Sale')):\n",
    "\n",
    "#                             root2=sale\n",
    "#                             if(root2.findall('POSIdentity')):\n",
    "#                                 for l6, pos in enumerate(root2.findall('POSIdentity')):\n",
    "#                                     posItem = pos.attrib['POSIDType']#.text\n",
    "#                                     if posItem=='00':\n",
    "#                                         sale_count+=1\n",
    "#                     if(root1.findall('Return')):\n",
    "#                         for l6, ret in enumerate(root1.findall('Return')):\n",
    "\n",
    "#                             root2=ret\n",
    "#                             if(root2.findall('POSIdentity')):\n",
    "#                                 for l6, rpos in enumerate(root2.findall('POSIdentity')):\n",
    "#                                     rposItem = rpos.attrib['POSIDType']#.text\n",
    "#                                     if rposItem=='20':\n",
    "#                                         ref_count+=1\n",
    "                \n",
    "#                 if sale_count>0:                \n",
    "#                     ordergroupdict[ordno]['salesxml']=xmlfile\n",
    "#                 elif ref_count>0:\n",
    "#                     tmp=ordergroupdict[ordno]['refundxml']\n",
    "#                     tmp.append(xmlfile)\n",
    "#                     ordergroupdict[ordno]['refundxml']=tmp\n",
    "                ordergroupdict[ordno]=xmlfile\n",
    "    \n",
    "    return ordergroupdict\n",
    "\n"
   ]
  },
  {
   "cell_type": "code",
   "execution_count": 130,
   "metadata": {},
   "outputs": [],
   "source": [
    "def remove_namespace(doc, namespace):\n",
    "        \"\"\"Remove namespace in the passed document in place.\"\"\"\n",
    "        ns = u'{%s}' % namespace\n",
    "        nsl = len(ns)\n",
    "        for elem in doc.getiterator():\n",
    "            if elem.tag.startswith(ns):\n",
    "                elem.tag = elem.tag[nsl:]\n"
   ]
  },
  {
   "cell_type": "code",
   "execution_count": 131,
   "metadata": {},
   "outputs": [],
   "source": [
    "def processesing(file_name,folder_path):\n",
    "    xml_file = os.path.join(folder_path,file_name)\n",
    "    new_path = os.path.join(folder_path,'xmldata')\n",
    "    if os.path.exists(new_path):\n",
    "        os.mkdir(new_path)\n",
    "    new_xml_file = os.path.join(new_path,xml_file)\n",
    "    \n",
    "    outputfilename = os.path.join(folder_path,f'{file_name[:-3]}csv')\n",
    "\n",
    "    tree=et.parse(xml_file)\n",
    "    root=tree.getroot()\n",
    "\n",
    "    namespace_txt=str(root.tag)[1:str(root.tag).rfind(\"}\")]    \n",
    "    remove_namespace(root, namespace_txt)\n",
    "    tree.write(new_xml_file, xml_declaration=True, encoding='UTF-8')\n",
    "    return new_xml_file"
   ]
  },
  {
   "cell_type": "code",
   "execution_count": 132,
   "metadata": {},
   "outputs": [],
   "source": [
    "def parse_xml_to_df(root):\n",
    "    df =pd.DataFrame(columns=['UnitID', 'SequenceNumber', 'ReceiptDateTime', 'WorkstationID','POSItemID', 'Quantity','UnitAmount', 'ExtendedAmount','SubtractAmt','NetQuantity','NetAmount','Desc'])\n",
    "    for l1, Transaction in enumerate(root.findall('Transaction')):\n",
    "        if l1==0:\n",
    "            rw=l1\n",
    "        else:\n",
    "            rw=len(df)\n",
    "        root1=Transaction\n",
    "        seq = Transaction.find('SequenceNumber').text\n",
    "        recDt = Transaction.find('ReceiptDateTime').text\n",
    "        ws = Transaction.find('WorkstationID').text\n",
    "\n",
    "        for l2, bu in enumerate(root.iter('UnitID')):\n",
    "            bu = bu.text\n",
    "\n",
    "        for l3, LineItem in enumerate(root.iter('LineItem')):\n",
    "            root1=LineItem\n",
    "            if l3!=0:\n",
    "                rw = len(df)\n",
    "            if(root1.findall('Sale')):\n",
    "                for l5, sale in enumerate(root1.findall('Sale')):\n",
    "                    Qnt = sale.find('Quantity').text\n",
    "                    uAmt = sale.find('UnitRetailPrice').text\n",
    "                    ExAmt = sale.find('ExtendedAmount').text\n",
    "                    df.at[rw,'Quantity']=Qnt\n",
    "                    df.at[rw,'UnitAmount']=uAmt\n",
    "                    df.at[rw,'ExtendedAmount']=ExAmt\n",
    "                    df.at[rw,'NetQuantity']=float(Qnt) if (Qnt==Qnt) else Qnt\n",
    "                    \n",
    "                    root2=sale\n",
    "                    if(root2.findall('POSIdentity')):\n",
    "                        for l6, pos in enumerate(root2.findall('POSIdentity')):\n",
    "                            posItem = pos.find('POSItemID').text\n",
    "                            df.at[rw,'POSItemID']=posItem\n",
    "                    root2=sale\n",
    "                    subamt = 0\n",
    "                    if(root2.findall('RetailPriceModifier')):\n",
    "                        subamt=0\n",
    "                        for l7, am in enumerate(root2.findall('RetailPriceModifier')):\n",
    "                            \n",
    "                            subamt +=float(am.find('Amount').text)\n",
    "                        df.at[rw,'SubtractAmt']=subamt\n",
    "                    df.at[rw,'NetAmount']=float(ExAmt)-float(subamt) if (ExAmt==ExAmt and subamt==subamt) else float(ExAmt)\n",
    "            df.at[rw,'UnitID']=bu\n",
    "            df.at[rw,'SequenceNumber']=seq\n",
    "            df.at[rw,'ReceiptDateTime']=recDt\n",
    "            df.at[rw,'WorkstationID']=ws\n",
    "    \n",
    "    return df"
   ]
  },
  {
   "cell_type": "code",
   "execution_count": 133,
   "metadata": {},
   "outputs": [],
   "source": [
    "def parse_refundxml_to_df(root):\n",
    "    df = pd.DataFrame(columns=['UnitID', 'RefundSequenceNumber', 'RefundReceiptDateTime', 'WorkstationID','POSItemID', 'RefundQuantity','RefundUnitAmount', 'RefundAmount'])\n",
    "    for l1, Transaction in enumerate(root.findall('Transaction')):\n",
    "        if l1==0:\n",
    "            rw=l1\n",
    "        else:\n",
    "            rw=len(df)\n",
    "        root1=Transaction\n",
    "        seq = Transaction.find('SequenceNumber').text\n",
    "        recDt = Transaction.find('ReceiptDateTime').text\n",
    "        ws = Transaction.find('WorkstationID').text\n",
    "\n",
    "        for l2, bu in enumerate(root.iter('UnitID')):\n",
    "            bu = bu.text\n",
    "\n",
    "        for l3, LineItem in enumerate(root.iter('LineItem')):\n",
    "            root1=LineItem\n",
    "            if l3!=0:\n",
    "                rw = len(df)\n",
    "            if(root1.findall('Return')):\n",
    "                for l5, sale in enumerate(root1.findall('Return')):\n",
    "                    Qnt = sale.find('Quantity').text\n",
    "                    uAmt = sale.find('UnitRetailPrice').text\n",
    "                    refAmt = sale.find('ExtendedAmount').text\n",
    "                    df.at[rw,'RefundQuantity']=Qnt\n",
    "                    df.at[rw,'RefundUnitAmount']=uAmt\n",
    "                    df.at[rw,'RefundAmount']=refAmt\n",
    "                    root2=sale\n",
    "                    if(root2.findall('POSIdentity')):\n",
    "                        for l6, pos in enumerate(root2.findall('POSIdentity')):\n",
    "                            posItem = pos.find('POSItemID').text\n",
    "                            df.at[rw,'POSItemID']=posItem\n",
    "                    root2=sale\n",
    "                    \n",
    "            df.at[rw,'UnitID']=bu\n",
    "            df.at[rw,'RefundSequenceNumber']=seq\n",
    "            df.at[rw,'RefundReceiptDateTime']=recDt\n",
    "            df.at[rw,'WorkstationID']=ws\n",
    "    return df"
   ]
  },
  {
   "cell_type": "code",
   "execution_count": 134,
   "metadata": {},
   "outputs": [],
   "source": [
    "def compare_klog_kcm(dfs,kcms,base_path_out):\n",
    "    for order_no in list(dfs.keys()):\n",
    "        klog_df = dfs[order_no]\n",
    "        kcms_df = kcms[order_no]\n",
    "\n",
    "        src_df = klog_df.copy()\n",
    "        trg_df = kcms_df.copy()\n",
    "\n",
    "        src_df = src_df[['Division','Store_no','POSItemID', 'NetQuantity', 'NetAmount']] #,'ReceiptDateTime'\n",
    "        trg_df = trg_df[['BIL_DIV_NO','STO_NO','CON_UPC_NO','SCN_UNT_QY', 'SCN_DOL_AM','ROW_ADD_TS']]\n",
    "\n",
    "        trg_df['CON_UPC_NO'] = trg_df['CON_UPC_NO'].apply(lambda x: '0'+str(x))\n",
    "\n",
    "        df =src_df.merge(trg_df, how= 'left', left_on =['POSItemID'], right_on =['CON_UPC_NO'])\n",
    "\n",
    "        df['match'] = [ 'True' if ((sq==tq) & (sa==ta)) else 'False' for sq,sa, tq, ta in zip(df['NetQuantity'],df['NetAmount'],df['SCN_UNT_QY'],df['SCN_DOL_AM'])]\n",
    "\n",
    "        df['total_cnt'] = df.groupby('ROW_ADD_TS')['match'].transform('count')\n",
    "\n",
    "        df1=df.groupby(['ROW_ADD_TS','total_cnt'])['match'].apply(lambda x: (x=='True').sum()).reset_index(name='count')\n",
    "\n",
    "        df1=df1[df1['total_cnt']==len(src_df)].copy()\n",
    "\n",
    "        upload_date_list = list(df1[df1['count']==df1['count'].max()]['ROW_ADD_TS'].astype(str))\n",
    "        if len(upload_date_list)>0:\n",
    "            upload_date = upload_date_list[0]\n",
    "            trg_df=trg_df[trg_df['ROW_ADD_TS']==upload_date][['BIL_DIV_NO','STO_NO','CON_UPC_NO','SCN_UNT_QY', 'SCN_DOL_AM']].copy()\n",
    "        \n",
    "        trg_df = trg_df[['BIL_DIV_NO','STO_NO','CON_UPC_NO','SCN_UNT_QY', 'SCN_DOL_AM']]\n",
    "        trg_df.columns= src_df.columns\n",
    "\n",
    "        src_df.set_index('POSItemID', inplace=True)\n",
    "        trg_df.set_index('POSItemID', inplace=True)\n",
    "\n",
    "        src_df.sort_index(inplace=True)\n",
    "        trg_df.sort_index(inplace=True)\n",
    "\n",
    "        comparison = pvd.core.compare(src_df,trg_df,\"demo\")\n",
    "        \n",
    "#         comparision.apply_style().to_excel(outputfile)\n",
    "        strformat = '%m%d%Y' + 'T' + '%H%M%S'\n",
    "        filename = f'KCMS_Comparison_Report_{order_no}_' + dt.datetime.today().strftime(strformat) + '.xlsx'\n",
    "        output_file = os.path.join(base_path_out,filename)\n",
    "        comparison.apply_style().to_excel(output_file)"
   ]
  },
  {
   "cell_type": "code",
   "execution_count": 135,
   "metadata": {},
   "outputs": [],
   "source": [
    "def compare_klog_kods(dfs,kdfs,base_path_out):\n",
    "    for order_no in list(dfs.keys()):\n",
    "        klog_df = dfs[order_no]\n",
    "        kods_df = kdfs[order_no]\n",
    "\n",
    "        src_df = klog_df.copy()\n",
    "        trg_df = kods_df.copy()\n",
    "\n",
    "        src_df = src_df[['Division','Store_no','POSItemID', 'NetQuantity', 'NetAmount']] #,'ReceiptDateTime'\n",
    "        trg_df = trg_df[['MGT_DIV_NO','STO_NO','GTIN_NO','SCN_UNT_QY', 'RTL_DOL_AM']]\n",
    "\n",
    "        trg_df['STO_NO'] = trg_df['STO_NO'].apply(lambda x: (str(x).strip()).zfill(5))\n",
    "\n",
    "        trg_df.columns= src_df.columns\n",
    "\n",
    "        src_df.set_index('POSItemID', inplace=True)\n",
    "        trg_df.set_index('POSItemID', inplace=True)\n",
    "\n",
    "        src_df.sort_index(inplace=True)\n",
    "        trg_df.sort_index(inplace=True)\n",
    "\n",
    "        comparison = pvd.core.compare(src_df,trg_df,\"demo\")\n",
    "        \n",
    "        strformat = '%m%d%Y' + 'T' + '%H%M%S'\n",
    "        filename = f'KODS_Comparison_Report_{order_no}_' + dt.datetime.today().strftime(strformat) + '.xlsx'\n",
    "        output_file = os.path.join(base_path_out,filename)\n",
    "        comparison.apply_style().to_excel(output_file)"
   ]
  },
  {
   "cell_type": "markdown",
   "metadata": {},
   "source": [
    "# Main Code Starts from here"
   ]
  },
  {
   "cell_type": "code",
   "execution_count": 136,
   "metadata": {},
   "outputs": [
    {
     "data": {
      "text/plain": [
       "['1680096201905.xml']"
      ]
     },
     "execution_count": 136,
     "metadata": {},
     "output_type": "execute_result"
    }
   ],
   "source": [
    "# list all the files under provided folder path\n",
    "xmlfiles =[x for x in os.listdir(folder_path) if str(x).endswith('.xml')]\n",
    "\n",
    "xmlfiles"
   ]
  },
  {
   "cell_type": "code",
   "execution_count": 137,
   "metadata": {},
   "outputs": [],
   "source": [
    "# {orderno1:{ 'salesxml' : f1; 'refundxml' : [f2, f3, f4]}}"
   ]
  },
  {
   "cell_type": "code",
   "execution_count": 138,
   "metadata": {},
   "outputs": [
    {
     "data": {
      "text/plain": [
       "{'1680096201905': '1680096201905.xml'}"
      ]
     },
     "execution_count": 138,
     "metadata": {},
     "output_type": "execute_result"
    }
   ],
   "source": [
    "ordergroupdict = get_order_group(xmlfiles)\n",
    "ordergroupdict"
   ]
  },
  {
   "cell_type": "code",
   "execution_count": 139,
   "metadata": {},
   "outputs": [],
   "source": [
    "ordergroupdict = {'1680096201905':'1680096201905.xml'}"
   ]
  },
  {
   "cell_type": "code",
   "execution_count": 140,
   "metadata": {
    "scrolled": true
   },
   "outputs": [
    {
     "name": "stdout",
     "output_type": "stream",
     "text": [
      "######################Order no : 1680096201905######################\n",
      "processing Main xml File 1680096201905.xml\n",
      "**********************************************************************************\n",
      "  Division Store_no       POSItemID Quantity      ReceiptDateTime  \\\n",
      "6      014    00007  00001901461090        1  2023-03-29T09:18:12   \n",
      "5      014    00007  00002420003885        1  2023-03-29T09:18:12   \n",
      "7      014    00007  00003040021118        1  2023-03-29T09:18:12   \n",
      "2      014    00007  00003320000322        1  2023-03-29T09:18:12   \n",
      "3      014    00007  00003320097551        1  2023-03-29T09:18:12   \n",
      "0      014    00007  00004200044364        1  2023-03-29T09:18:12   \n",
      "4      014    00007  00004200044364        1  2023-03-29T09:18:12   \n",
      "1      014    00007  00007261373915        1  2023-03-29T09:18:12   \n",
      "8      014    00007  00010000008313        1  2023-03-29T09:18:12   \n",
      "9      014    00007  00010000008664        1  2023-03-29T09:18:12   \n",
      "\n",
      "  ExtendedAmount  NetQuantity  NetAmount          Desc  \n",
      "6          26.99            1      24.19  (1.0, 24.19)  \n",
      "5          16.99            1      12.99  (1.0, 12.99)  \n",
      "7           6.99            1       5.99   (1.0, 5.99)  \n",
      "2          13.99            1      10.99  (1.0, 10.99)  \n",
      "3           8.99            1       0.00   (1.0, 0.00)  \n",
      "0          27.99            1      22.99  (1.0, 22.99)  \n",
      "4          27.99            1      22.99  (1.0, 22.99)  \n",
      "1           9.99            1       0.00   (1.0, 0.00)  \n",
      "8            1.0            1       1.00   (1.0, 1.00)  \n",
      "9            1.0            1       1.00   (1.0, 1.00)  \n",
      "**********************************************************************************\n"
     ]
    }
   ],
   "source": [
    "col=['Division','Store_no','UnitID', 'SequenceNumber', 'ReceiptDateTime', 'WorkstationID','POSItemID', 'Quantity','UnitAmount', 'ExtendedAmount','SubtractAmt','NetQuantity','NetAmount','Desc']\n",
    "\n",
    "tlog_queries= {}\n",
    "kcms_queries={}\n",
    "pdict = {}\n",
    "dfs = {}\n",
    "\n",
    "# Processing each Order No one by one\n",
    "for k,v in ordergroupdict.items():\n",
    "    print(f\"######################Order no : {k}######################\")\n",
    "    xml_list =  v #.get('refundxml','FILENOTFOUND')\n",
    "    seq = []\n",
    "    div = store = wid = gtin = qdate = qtime = ''\n",
    "    fname = v #.get('salesxml','FILENOTFOUND')\n",
    "    if fname=='FILENOTFOUND':\n",
    "        print(f\"Sales Xml file not found for Order no {k}\")\n",
    "        continue\n",
    "    \n",
    "    #Processing main xml files for Current Order no\n",
    "    \n",
    "    print(f\"processing Main xml File {fname}\")\n",
    "    new_xml_file = processesing(fname,folder_path)\n",
    "    tree=et.parse(new_xml_file)\n",
    "    root=tree.getroot()\n",
    "    xml_df = parse_xml_to_df(root)\n",
    "    xml_df =xml_df.dropna(subset=['ExtendedAmount','POSItemID','Quantity'], how='all').reset_index(drop=True)\n",
    "\n",
    "    xml_df['Desc']=[f\"({q}, {a:.2f})\" if (q==q and a==a) else pd.NA for q,a in zip(xml_df['NetQuantity'],xml_df['NetAmount'])]        \n",
    "#         print(xml_df)\n",
    "    xml_df['Division']=str(xml_df['UnitID'][0])[:3]\n",
    "    xml_df['Store_no']=str(xml_df['UnitID'][0])[3:]\n",
    "    # Storing all the required values to pass it further to sql query\n",
    "    div = str(xml_df['UnitID'][0])[:3]\n",
    "    store = str(xml_df['UnitID'][0])[3:]\n",
    "    wid = str(xml_df['WorkstationID'][0])\n",
    "    gtins = \",\".join(list(set(xml_df['POSItemID'])))\n",
    "    seq_list = [x for x in list(set(xml_df['SequenceNumber'])) if x==x]\n",
    "    seq = list(set(seq_list))\n",
    "    qdatetime = list(set(xml_df['ReceiptDateTime']))\n",
    "    qdate, qtime = str(xml_df['ReceiptDateTime'][0]).split('T')\n",
    "    \n",
    "#     for refund_file in xml_list:\n",
    "#         fname = refund_file\n",
    "#         print(f\"processing Refund xml File {fname}\")\n",
    "#         new_xml_file = processesing(fname,folder_path)\n",
    "#         tree=et.parse(new_xml_file)\n",
    "#         root=tree.getroot()\n",
    "#         refund_xml_df = parse_refundxml_to_df(root)\n",
    "#         refund_xml_df =refund_xml_df.dropna(subset=['RefundAmount','POSItemID','RefundQuantity'], how='all').reset_index(drop=True)\n",
    "        \n",
    "#         refund_xml_df['RefundAmount'] = refund_xml_df['RefundAmount'].fillna(0).astype(float)\n",
    "#         refund_xml_df['RefundQuantity'] = refund_xml_df['RefundQuantity'].fillna(0).astype(int)\n",
    "        \n",
    "#         xml_df = xml_df.merge(refund_xml_df, how='left',on=['UnitID', 'WorkstationID','POSItemID'])\n",
    "#         seq_list = [x for x in list(set(xml_df['RefundSequenceNumber'])) if x==x]\n",
    "#         seq = [*seq,*seq_list]\n",
    "#         rqdatetime = [x for x in list(set(xml_df['RefundReceiptDateTime'])) if x==x]\n",
    "#         qdatetime = [*qdatetime,*rqdatetime]\n",
    "#         xml_df['Desc']=[\", \".join([d,f\"({q}, {a:.2f})\"])  if (q==q and a==a) else d for d,q,a in zip(xml_df['Desc'],xml_df['RefundQuantity'],xml_df['RefundAmount'])]\n",
    "#         xml_df['NetAmount']=xml_df['NetAmount'].sub(xml_df['RefundAmount'], fill_value=0)\n",
    "#         xml_df['NetQuantity']=xml_df['NetQuantity'].sub(xml_df['RefundQuantity'], fill_value=0)\n",
    "        \n",
    "#         print('-------------------------------------------------------------------')\n",
    "#         print(xml_df[['POSItemID', 'Quantity','ReceiptDateTime', 'RefundReceiptDateTime','ExtendedAmount','NetQuantity','NetAmount','Desc']])\n",
    "#         print('-------------------------------------------------------------------')\n",
    "#         xml_df=xml_df[col]\n",
    "   \n",
    "    xml_df.sort_values(by='POSItemID',inplace=True)\n",
    "    xml_df['NetAmount']=xml_df['NetAmount'].astype(float).round(2)\n",
    "    xml_df['NetQuantity']=xml_df['NetQuantity'].astype(int)\n",
    "    print('**********************************************************************************')\n",
    "    print(xml_df[['Division','Store_no','POSItemID', 'Quantity','ReceiptDateTime', 'ExtendedAmount','NetQuantity','NetAmount','Desc']])\n",
    "    print('**********************************************************************************')\n",
    "    dfs[k] = xml_df[['Division','Store_no','ReceiptDateTime','POSItemID', 'Quantity', 'ExtendedAmount','SubtractAmt','NetQuantity','NetAmount','Desc']]\n",
    "    seq_list = [x for x in list(set(seq)) if x==x]\n",
    "    sequence = \", \".join(seq_list)\n",
    "    query = f\"\"\"\n",
    "SELECT MGT_DIV_NO ,STO_NO ,FAC_ID ,TRN_DT ,TRN_TM ,TML_NO ,TRN_NO ,ITM_ID ,GTIN_NO ,SCN_UNT_QY ,GTIN_UOM_AM ,CLY_DOL_AM ,RTL_DOL_AM\n",
    "from tlog.vw_fct_itm \n",
    "where\n",
    "MGT_DIV_NO in ({div})\n",
    "AND STO_NO = {store}\n",
    "AND TML_NO = {wid}\n",
    "AND TRN_NO IN ({sequence})\n",
    "AND TRN_DT =  '{qdate}'\n",
    "AND GTIN_NO IN ({gtins})\n",
    "AND TRN_TM IN ('{qtime}')\n",
    "\n",
    "with ur for read only\n",
    "\"\"\"\n",
    "    kcms_query = f\"\"\"\n",
    "with bill_id as \n",
    "( select FAC_BIL_DIV_ID from kcms.dim_fac_lvl_fac where FAC_NO = '{store}' \n",
    "and FAC_BIL_DIV_NO = '{div}'\n",
    ")\n",
    "\n",
    "SELECT d.day_dt,st.bil_div_no,st.sto_no,c.CON_UPC_NO,scn_dol_am,scn_unt_qy,scn_lbs_am,ROW_ADD_TS\n",
    "FROM kcms.stg_sls_day_sto_con_rms_{div} f\n",
    "INNER JOIN kcms.dim_pdt_lvl_con c ON f.CON_UPC_ID = c.CON_UPC_ID\n",
    "INNER JOIN kcms.dim_cal_lvl_day d ON d.day_id = f.day_id\n",
    "INNER JOIN kcms.dim_Sto_lvl_sto st ON st.sto_id = f.sto_id\n",
    "INNER JOIN bill_id b ON f.BIL_DIV_ID = b.FAC_BIL_DIV_ID and c.bil_div_id = b.FAC_BIL_DIV_ID\n",
    "WHERE d.day_dt = '{qdate}'\n",
    "and d.BGN_WEK_DAY_ID = 1\n",
    "AND c.CON_UPC_NO IN ({gtins});\n",
    "\"\"\"\n",
    "    \n",
    "    tmpdict={}\n",
    "    tmpdict={'div':div,'store':store,'wid':wid,'sequence':sequence,'qdate':qdate,'qtime':qtime,'gtins':gtins,'qdatetime':qdatetime}\n",
    "    pdict[k] =tmpdict\n",
    "    tlog_queries[k]=query\n",
    "    kcms_queries[k]=kcms_query\n",
    "    \n",
    "#     kcms_df = pd.read_sql_query(kcms_query, kcmst_conn)\n",
    "#     kcms_df.sort_values(by='CON_UPC_NO',inplace=True)\n",
    "#     kdfs[i] = kcms_df\n",
    "    \n",
    "    \n"
   ]
  },
  {
   "cell_type": "code",
   "execution_count": 141,
   "metadata": {},
   "outputs": [],
   "source": [
    "# sales xml will not have any refund and there will be only one sales xml\n",
    "# all other xml will check for Refund data "
   ]
  },
  {
   "cell_type": "code",
   "execution_count": null,
   "metadata": {},
   "outputs": [],
   "source": []
  },
  {
   "cell_type": "code",
   "execution_count": 142,
   "metadata": {},
   "outputs": [],
   "source": [
    "df1=dfs['1680096201905']"
   ]
  },
  {
   "cell_type": "code",
   "execution_count": 143,
   "metadata": {},
   "outputs": [
    {
     "data": {
      "text/html": [
       "<div>\n",
       "<style scoped>\n",
       "    .dataframe tbody tr th:only-of-type {\n",
       "        vertical-align: middle;\n",
       "    }\n",
       "\n",
       "    .dataframe tbody tr th {\n",
       "        vertical-align: top;\n",
       "    }\n",
       "\n",
       "    .dataframe thead th {\n",
       "        text-align: right;\n",
       "    }\n",
       "</style>\n",
       "<table border=\"1\" class=\"dataframe\">\n",
       "  <thead>\n",
       "    <tr style=\"text-align: right;\">\n",
       "      <th></th>\n",
       "      <th>Division</th>\n",
       "      <th>Store_no</th>\n",
       "      <th>ReceiptDateTime</th>\n",
       "      <th>POSItemID</th>\n",
       "      <th>Quantity</th>\n",
       "      <th>ExtendedAmount</th>\n",
       "      <th>SubtractAmt</th>\n",
       "      <th>NetQuantity</th>\n",
       "      <th>NetAmount</th>\n",
       "      <th>Desc</th>\n",
       "    </tr>\n",
       "  </thead>\n",
       "  <tbody>\n",
       "    <tr>\n",
       "      <th>6</th>\n",
       "      <td>014</td>\n",
       "      <td>00007</td>\n",
       "      <td>2023-03-29T09:18:12</td>\n",
       "      <td>00001901461090</td>\n",
       "      <td>1</td>\n",
       "      <td>26.99</td>\n",
       "      <td>2.8</td>\n",
       "      <td>1</td>\n",
       "      <td>24.19</td>\n",
       "      <td>(1.0, 24.19)</td>\n",
       "    </tr>\n",
       "    <tr>\n",
       "      <th>5</th>\n",
       "      <td>014</td>\n",
       "      <td>00007</td>\n",
       "      <td>2023-03-29T09:18:12</td>\n",
       "      <td>00002420003885</td>\n",
       "      <td>1</td>\n",
       "      <td>16.99</td>\n",
       "      <td>4.0</td>\n",
       "      <td>1</td>\n",
       "      <td>12.99</td>\n",
       "      <td>(1.0, 12.99)</td>\n",
       "    </tr>\n",
       "    <tr>\n",
       "      <th>7</th>\n",
       "      <td>014</td>\n",
       "      <td>00007</td>\n",
       "      <td>2023-03-29T09:18:12</td>\n",
       "      <td>00003040021118</td>\n",
       "      <td>1</td>\n",
       "      <td>6.99</td>\n",
       "      <td>1.0</td>\n",
       "      <td>1</td>\n",
       "      <td>5.99</td>\n",
       "      <td>(1.0, 5.99)</td>\n",
       "    </tr>\n",
       "    <tr>\n",
       "      <th>2</th>\n",
       "      <td>014</td>\n",
       "      <td>00007</td>\n",
       "      <td>2023-03-29T09:18:12</td>\n",
       "      <td>00003320000322</td>\n",
       "      <td>1</td>\n",
       "      <td>13.99</td>\n",
       "      <td>3.0</td>\n",
       "      <td>1</td>\n",
       "      <td>10.99</td>\n",
       "      <td>(1.0, 10.99)</td>\n",
       "    </tr>\n",
       "    <tr>\n",
       "      <th>3</th>\n",
       "      <td>014</td>\n",
       "      <td>00007</td>\n",
       "      <td>2023-03-29T09:18:12</td>\n",
       "      <td>00003320097551</td>\n",
       "      <td>1</td>\n",
       "      <td>8.99</td>\n",
       "      <td>8.99</td>\n",
       "      <td>1</td>\n",
       "      <td>0.00</td>\n",
       "      <td>(1.0, 0.00)</td>\n",
       "    </tr>\n",
       "    <tr>\n",
       "      <th>0</th>\n",
       "      <td>014</td>\n",
       "      <td>00007</td>\n",
       "      <td>2023-03-29T09:18:12</td>\n",
       "      <td>00004200044364</td>\n",
       "      <td>1</td>\n",
       "      <td>27.99</td>\n",
       "      <td>5.0</td>\n",
       "      <td>1</td>\n",
       "      <td>22.99</td>\n",
       "      <td>(1.0, 22.99)</td>\n",
       "    </tr>\n",
       "    <tr>\n",
       "      <th>4</th>\n",
       "      <td>014</td>\n",
       "      <td>00007</td>\n",
       "      <td>2023-03-29T09:18:12</td>\n",
       "      <td>00004200044364</td>\n",
       "      <td>1</td>\n",
       "      <td>27.99</td>\n",
       "      <td>5.0</td>\n",
       "      <td>1</td>\n",
       "      <td>22.99</td>\n",
       "      <td>(1.0, 22.99)</td>\n",
       "    </tr>\n",
       "    <tr>\n",
       "      <th>1</th>\n",
       "      <td>014</td>\n",
       "      <td>00007</td>\n",
       "      <td>2023-03-29T09:18:12</td>\n",
       "      <td>00007261373915</td>\n",
       "      <td>1</td>\n",
       "      <td>9.99</td>\n",
       "      <td>9.99</td>\n",
       "      <td>1</td>\n",
       "      <td>0.00</td>\n",
       "      <td>(1.0, 0.00)</td>\n",
       "    </tr>\n",
       "    <tr>\n",
       "      <th>8</th>\n",
       "      <td>014</td>\n",
       "      <td>00007</td>\n",
       "      <td>2023-03-29T09:18:12</td>\n",
       "      <td>00010000008313</td>\n",
       "      <td>1</td>\n",
       "      <td>1.0</td>\n",
       "      <td>NaN</td>\n",
       "      <td>1</td>\n",
       "      <td>1.00</td>\n",
       "      <td>(1.0, 1.00)</td>\n",
       "    </tr>\n",
       "    <tr>\n",
       "      <th>9</th>\n",
       "      <td>014</td>\n",
       "      <td>00007</td>\n",
       "      <td>2023-03-29T09:18:12</td>\n",
       "      <td>00010000008664</td>\n",
       "      <td>1</td>\n",
       "      <td>1.0</td>\n",
       "      <td>NaN</td>\n",
       "      <td>1</td>\n",
       "      <td>1.00</td>\n",
       "      <td>(1.0, 1.00)</td>\n",
       "    </tr>\n",
       "  </tbody>\n",
       "</table>\n",
       "</div>"
      ],
      "text/plain": [
       "  Division Store_no      ReceiptDateTime       POSItemID Quantity  \\\n",
       "6      014    00007  2023-03-29T09:18:12  00001901461090        1   \n",
       "5      014    00007  2023-03-29T09:18:12  00002420003885        1   \n",
       "7      014    00007  2023-03-29T09:18:12  00003040021118        1   \n",
       "2      014    00007  2023-03-29T09:18:12  00003320000322        1   \n",
       "3      014    00007  2023-03-29T09:18:12  00003320097551        1   \n",
       "0      014    00007  2023-03-29T09:18:12  00004200044364        1   \n",
       "4      014    00007  2023-03-29T09:18:12  00004200044364        1   \n",
       "1      014    00007  2023-03-29T09:18:12  00007261373915        1   \n",
       "8      014    00007  2023-03-29T09:18:12  00010000008313        1   \n",
       "9      014    00007  2023-03-29T09:18:12  00010000008664        1   \n",
       "\n",
       "  ExtendedAmount SubtractAmt  NetQuantity  NetAmount          Desc  \n",
       "6          26.99         2.8            1      24.19  (1.0, 24.19)  \n",
       "5          16.99         4.0            1      12.99  (1.0, 12.99)  \n",
       "7           6.99         1.0            1       5.99   (1.0, 5.99)  \n",
       "2          13.99         3.0            1      10.99  (1.0, 10.99)  \n",
       "3           8.99        8.99            1       0.00   (1.0, 0.00)  \n",
       "0          27.99         5.0            1      22.99  (1.0, 22.99)  \n",
       "4          27.99         5.0            1      22.99  (1.0, 22.99)  \n",
       "1           9.99        9.99            1       0.00   (1.0, 0.00)  \n",
       "8            1.0         NaN            1       1.00   (1.0, 1.00)  \n",
       "9            1.0         NaN            1       1.00   (1.0, 1.00)  "
      ]
     },
     "execution_count": 143,
     "metadata": {},
     "output_type": "execute_result"
    }
   ],
   "source": [
    "df1.sort_values(by=['POSItemID'])"
   ]
  },
  {
   "cell_type": "code",
   "execution_count": 144,
   "metadata": {},
   "outputs": [
    {
     "data": {
      "text/plain": [
       "39.78"
      ]
     },
     "execution_count": 144,
     "metadata": {},
     "output_type": "execute_result"
    }
   ],
   "source": [
    "5.0 +1.0 +0.1 +2.7 +1.0 +3.0 +5.0 +8.99 +3.0 +9.99 +0.0  "
   ]
  },
  {
   "cell_type": "code",
   "execution_count": 145,
   "metadata": {},
   "outputs": [
    {
     "data": {
      "text/plain": [
       "141.92"
      ]
     },
     "execution_count": 145,
     "metadata": {},
     "output_type": "execute_result"
    }
   ],
   "source": [
    "df1['ExtendedAmount'].astype(float).sum()"
   ]
  },
  {
   "cell_type": "code",
   "execution_count": 146,
   "metadata": {},
   "outputs": [
    {
     "data": {
      "text/plain": [
       "39.78"
      ]
     },
     "execution_count": 146,
     "metadata": {},
     "output_type": "execute_result"
    }
   ],
   "source": [
    "df1['SubtractAmt'].astype(float).sum()"
   ]
  },
  {
   "cell_type": "code",
   "execution_count": 119,
   "metadata": {},
   "outputs": [
    {
     "data": {
      "text/plain": [
       "98.13999999999999"
      ]
     },
     "execution_count": 119,
     "metadata": {},
     "output_type": "execute_result"
    }
   ],
   "source": [
    "139.92-41.78"
   ]
  },
  {
   "cell_type": "code",
   "execution_count": 121,
   "metadata": {},
   "outputs": [
    {
     "data": {
      "text/plain": [
       "119.99999999999999"
      ]
     },
     "execution_count": 121,
     "metadata": {},
     "output_type": "execute_result"
    }
   ],
   "source": [
    "139.92-41.78 + 6.76 +15.1\n",
    "\n",
    "(total amt - coupon gtin amount) - (total subtract amount+ coupon gtin amount) + tax + tender change"
   ]
  },
  {
   "cell_type": "code",
   "execution_count": null,
   "metadata": {},
   "outputs": [],
   "source": [
    "Total extended amount only typecode 00/01 -sum of subtract - sum of gtin coupons + tax"
   ]
  },
  {
   "cell_type": "code",
   "execution_count": null,
   "metadata": {},
   "outputs": [],
   "source": []
  },
  {
   "cell_type": "code",
   "execution_count": 113,
   "metadata": {},
   "outputs": [
    {
     "data": {
      "text/plain": [
       "102.13999999999999"
      ]
     },
     "execution_count": 113,
     "metadata": {},
     "output_type": "execute_result"
    }
   ],
   "source": [
    "df1['NetAmount'].astype(float).sum()"
   ]
  },
  {
   "cell_type": "code",
   "execution_count": 116,
   "metadata": {},
   "outputs": [
    {
     "data": {
      "text/plain": [
       "106.89999999999999"
      ]
     },
     "execution_count": 116,
     "metadata": {},
     "output_type": "execute_result"
    }
   ],
   "source": [
    "102.13999999999999-2+6.76"
   ]
  },
  {
   "cell_type": "code",
   "execution_count": 90,
   "metadata": {},
   "outputs": [
    {
     "data": {
      "text/plain": [
       "146.67999999999998"
      ]
     },
     "execution_count": 90,
     "metadata": {},
     "output_type": "execute_result"
    }
   ],
   "source": [
    "141.92-39.78+6.76-2\n",
    "\n",
    "139.92 - 41.78\n",
    "\n",
    "139.92+6.76"
   ]
  },
  {
   "cell_type": "code",
   "execution_count": 87,
   "metadata": {},
   "outputs": [
    {
     "data": {
      "text/plain": [
       "146.67999999999998"
      ]
     },
     "execution_count": 87,
     "metadata": {},
     "output_type": "execute_result"
    }
   ],
   "source": [
    "139.92+6.76\n",
    "GROSS POSITIVE =  TOTAL EXTENDED AMOUNT + TAX AMOUNT\n",
    "GROSS NEGATIVE = TOTAL SUBTRACT AMOUNT + EXTRA COUPON AMOUNT (POSIDType=75)"
   ]
  },
  {
   "cell_type": "code",
   "execution_count": 88,
   "metadata": {},
   "outputs": [
    {
     "data": {
      "text/plain": [
       "104.9"
      ]
     },
     "execution_count": 88,
     "metadata": {},
     "output_type": "execute_result"
    }
   ],
   "source": [
    "146.68-41.78"
   ]
  },
  {
   "cell_type": "code",
   "execution_count": 82,
   "metadata": {},
   "outputs": [
    {
     "data": {
      "text/plain": [
       "117.60000000000001"
      ]
     },
     "execution_count": 82,
     "metadata": {},
     "output_type": "execute_result"
    }
   ],
   "source": [
    "112.84+6.76 -2"
   ]
  },
  {
   "cell_type": "code",
   "execution_count": 81,
   "metadata": {},
   "outputs": [
    {
     "data": {
      "text/plain": [
       "39.78"
      ]
     },
     "execution_count": 81,
     "metadata": {},
     "output_type": "execute_result"
    }
   ],
   "source": [
    "5.0 +1.0 +0.1 +2.7 +1.0 +3.0 +5.0 +8.99 +3.0 +9.99 +0.0  "
   ]
  },
  {
   "cell_type": "markdown",
   "metadata": {},
   "source": [
    "# KCMS Comparison"
   ]
  },
  {
   "cell_type": "code",
   "execution_count": 40,
   "metadata": {},
   "outputs": [
    {
     "name": "stdout",
     "output_type": "stream",
     "text": [
      "Empty DataFrame\n",
      "Columns: [DAY_DT, BIL_DIV_NO, STO_NO, CON_UPC_NO, SCN_DOL_AM, SCN_UNT_QY, SCN_LBS_AM, ROW_ADD_TS]\n",
      "Index: []\n"
     ]
    }
   ],
   "source": [
    "kcms = {}\n",
    "for i, query in kcms_queries.items():\n",
    "    with open(\"kcmsquery.sql\",'w+') as f:\n",
    "        f.write(query)\n",
    "    df = pd.read_sql_query(query, kcmst_conn)\n",
    "    df.sort_values(by='CON_UPC_NO',inplace=True)\n",
    "    df['SCN_DOL_AM']=df['SCN_DOL_AM'].astype(float).round(2)\n",
    "    df['SCN_UNT_QY']=df['SCN_UNT_QY'].astype(int)\n",
    "    kcms[i] = df\n",
    "    print(df)"
   ]
  },
  {
   "cell_type": "code",
   "execution_count": 36,
   "metadata": {
    "collapsed": true
   },
   "outputs": [
    {
     "ename": "KeyError",
     "evalue": "'TARGET'",
     "output_type": "error",
     "traceback": [
      "\u001b[1;31m---------------------------------------------------------------------------\u001b[0m",
      "\u001b[1;31mKeyError\u001b[0m                                  Traceback (most recent call last)",
      "\u001b[1;32m~\\PycharmProjects\\pythonDummyProject\\dummyvenv\\lib\\site-packages\\pandas\\core\\indexes\\base.py\u001b[0m in \u001b[0;36mget_loc\u001b[1;34m(self, key, method, tolerance)\u001b[0m\n\u001b[0;32m   3802\u001b[0m             \u001b[1;32mtry\u001b[0m\u001b[1;33m:\u001b[0m\u001b[1;33m\u001b[0m\u001b[1;33m\u001b[0m\u001b[0m\n\u001b[1;32m-> 3803\u001b[1;33m                 \u001b[1;32mreturn\u001b[0m \u001b[0mself\u001b[0m\u001b[1;33m.\u001b[0m\u001b[0m_engine\u001b[0m\u001b[1;33m.\u001b[0m\u001b[0mget_loc\u001b[0m\u001b[1;33m(\u001b[0m\u001b[0mcasted_key\u001b[0m\u001b[1;33m)\u001b[0m\u001b[1;33m\u001b[0m\u001b[1;33m\u001b[0m\u001b[0m\n\u001b[0m\u001b[0;32m   3804\u001b[0m             \u001b[1;32mexcept\u001b[0m \u001b[0mKeyError\u001b[0m \u001b[1;32mas\u001b[0m \u001b[0merr\u001b[0m\u001b[1;33m:\u001b[0m\u001b[1;33m\u001b[0m\u001b[1;33m\u001b[0m\u001b[0m\n",
      "\u001b[1;32m~\\PycharmProjects\\pythonDummyProject\\dummyvenv\\lib\\site-packages\\pandas\\_libs\\index.pyx\u001b[0m in \u001b[0;36mpandas._libs.index.IndexEngine.get_loc\u001b[1;34m()\u001b[0m\n",
      "\u001b[1;32m~\\PycharmProjects\\pythonDummyProject\\dummyvenv\\lib\\site-packages\\pandas\\_libs\\index.pyx\u001b[0m in \u001b[0;36mpandas._libs.index.IndexEngine.get_loc\u001b[1;34m()\u001b[0m\n",
      "\u001b[1;32mpandas\\_libs\\hashtable_class_helper.pxi\u001b[0m in \u001b[0;36mpandas._libs.hashtable.PyObjectHashTable.get_item\u001b[1;34m()\u001b[0m\n",
      "\u001b[1;32mpandas\\_libs\\hashtable_class_helper.pxi\u001b[0m in \u001b[0;36mpandas._libs.hashtable.PyObjectHashTable.get_item\u001b[1;34m()\u001b[0m\n",
      "\u001b[1;31mKeyError\u001b[0m: 'TARGET'",
      "\nThe above exception was the direct cause of the following exception:\n",
      "\u001b[1;31mKeyError\u001b[0m                                  Traceback (most recent call last)",
      "\u001b[1;32m<ipython-input-36-60ad580b67aa>\u001b[0m in \u001b[0;36m<module>\u001b[1;34m\u001b[0m\n\u001b[1;32m----> 1\u001b[1;33m \u001b[0mcompare_klog_kcm\u001b[0m\u001b[1;33m(\u001b[0m\u001b[0mdfs\u001b[0m\u001b[1;33m,\u001b[0m\u001b[0mkcms\u001b[0m\u001b[1;33m,\u001b[0m\u001b[0mfolder_path\u001b[0m\u001b[1;33m)\u001b[0m\u001b[1;33m\u001b[0m\u001b[1;33m\u001b[0m\u001b[0m\n\u001b[0m",
      "\u001b[1;32m<ipython-input-25-6bbf4370f125>\u001b[0m in \u001b[0;36mcompare_klog_kcm\u001b[1;34m(dfs, kcms, base_path_out)\u001b[0m\n\u001b[0;32m     36\u001b[0m         \u001b[0mtrg_df\u001b[0m\u001b[1;33m.\u001b[0m\u001b[0msort_index\u001b[0m\u001b[1;33m(\u001b[0m\u001b[0minplace\u001b[0m\u001b[1;33m=\u001b[0m\u001b[1;32mTrue\u001b[0m\u001b[1;33m)\u001b[0m\u001b[1;33m\u001b[0m\u001b[1;33m\u001b[0m\u001b[0m\n\u001b[0;32m     37\u001b[0m \u001b[1;33m\u001b[0m\u001b[0m\n\u001b[1;32m---> 38\u001b[1;33m         \u001b[0mcomparison\u001b[0m \u001b[1;33m=\u001b[0m \u001b[0mpvd\u001b[0m\u001b[1;33m.\u001b[0m\u001b[0mcore\u001b[0m\u001b[1;33m.\u001b[0m\u001b[0mcompare\u001b[0m\u001b[1;33m(\u001b[0m\u001b[0msrc_df\u001b[0m\u001b[1;33m,\u001b[0m\u001b[0mtrg_df\u001b[0m\u001b[1;33m,\u001b[0m\u001b[1;34m\"demo\"\u001b[0m\u001b[1;33m)\u001b[0m\u001b[1;33m\u001b[0m\u001b[1;33m\u001b[0m\u001b[0m\n\u001b[0m\u001b[0;32m     39\u001b[0m \u001b[1;33m\u001b[0m\u001b[0m\n\u001b[0;32m     40\u001b[0m \u001b[1;31m#         comparision.apply_style().to_excel(outputfile)\u001b[0m\u001b[1;33m\u001b[0m\u001b[1;33m\u001b[0m\u001b[1;33m\u001b[0m\u001b[0m\n",
      "\u001b[1;32mc:\\users\\kon2193\\pycharmprojects\\pythondummyproject\\src\\pyvalidata\\core.py\u001b[0m in \u001b[0;36mcompare\u001b[1;34m(source, target, *args, **kwargs)\u001b[0m\n\u001b[0;32m     33\u001b[0m \u001b[1;32mdef\u001b[0m \u001b[0mcompare\u001b[0m\u001b[1;33m(\u001b[0m\u001b[0msource\u001b[0m\u001b[1;33m:\u001b[0m \u001b[0mpd\u001b[0m\u001b[1;33m.\u001b[0m\u001b[0mDataFrame\u001b[0m\u001b[1;33m,\u001b[0m \u001b[0mtarget\u001b[0m\u001b[1;33m:\u001b[0m \u001b[0mpd\u001b[0m\u001b[1;33m.\u001b[0m\u001b[0mDataFrame\u001b[0m\u001b[1;33m,\u001b[0m \u001b[1;33m*\u001b[0m\u001b[0margs\u001b[0m\u001b[1;33m,\u001b[0m \u001b[1;33m**\u001b[0m\u001b[0mkwargs\u001b[0m\u001b[1;33m)\u001b[0m \u001b[1;33m->\u001b[0m \u001b[0mDiffer\u001b[0m\u001b[1;33m:\u001b[0m\u001b[1;33m\u001b[0m\u001b[1;33m\u001b[0m\u001b[0m\n\u001b[0;32m     34\u001b[0m     \u001b[1;34m\"\"\"Compare the source and target data\"\"\"\u001b[0m\u001b[1;33m\u001b[0m\u001b[1;33m\u001b[0m\u001b[0m\n\u001b[1;32m---> 35\u001b[1;33m     \u001b[0mcomparison\u001b[0m \u001b[1;33m=\u001b[0m \u001b[0mDiffer\u001b[0m\u001b[1;33m(\u001b[0m\u001b[0msource\u001b[0m\u001b[1;33m,\u001b[0m \u001b[0mtarget\u001b[0m\u001b[1;33m,\u001b[0m \u001b[1;33m*\u001b[0m\u001b[0margs\u001b[0m\u001b[1;33m,\u001b[0m \u001b[1;33m**\u001b[0m\u001b[0mkwargs\u001b[0m\u001b[1;33m)\u001b[0m\u001b[1;33m\u001b[0m\u001b[1;33m\u001b[0m\u001b[0m\n\u001b[0m\u001b[0;32m     36\u001b[0m \u001b[1;33m\u001b[0m\u001b[0m\n\u001b[0;32m     37\u001b[0m     \u001b[1;32mreturn\u001b[0m \u001b[0mcomparison\u001b[0m\u001b[1;33m\u001b[0m\u001b[1;33m\u001b[0m\u001b[0m\n",
      "\u001b[1;32mc:\\users\\kon2193\\pycharmprojects\\pythondummyproject\\src\\pyvalidata\\differ.py\u001b[0m in \u001b[0;36m__init__\u001b[1;34m(self, source, target, *args, **kwargs)\u001b[0m\n\u001b[0;32m     25\u001b[0m         \u001b[0mself\u001b[0m\u001b[1;33m.\u001b[0m\u001b[0mtarget\u001b[0m \u001b[1;33m=\u001b[0m \u001b[0mtarget\u001b[0m\u001b[1;33m.\u001b[0m\u001b[0mrename_axis\u001b[0m\u001b[1;33m(\u001b[0m\u001b[1;34m'Index'\u001b[0m\u001b[1;33m)\u001b[0m\u001b[1;33m\u001b[0m\u001b[1;33m\u001b[0m\u001b[0m\n\u001b[0;32m     26\u001b[0m         \u001b[0mself\u001b[0m\u001b[1;33m.\u001b[0m\u001b[0mdiff\u001b[0m \u001b[1;33m=\u001b[0m \u001b[0mself\u001b[0m\u001b[1;33m.\u001b[0m\u001b[0mdiff\u001b[0m\u001b[1;33m(\u001b[0m\u001b[1;33m*\u001b[0m\u001b[0margs\u001b[0m\u001b[1;33m,\u001b[0m \u001b[1;33m**\u001b[0m\u001b[0mkwargs\u001b[0m\u001b[1;33m)\u001b[0m\u001b[1;33m\u001b[0m\u001b[1;33m\u001b[0m\u001b[0m\n\u001b[1;32m---> 27\u001b[1;33m         \u001b[0mself\u001b[0m\u001b[1;33m.\u001b[0m\u001b[0mmask\u001b[0m \u001b[1;33m=\u001b[0m \u001b[0mself\u001b[0m\u001b[1;33m.\u001b[0m\u001b[0mmask\u001b[0m\u001b[1;33m(\u001b[0m\u001b[1;33m*\u001b[0m\u001b[0margs\u001b[0m\u001b[1;33m,\u001b[0m \u001b[1;33m**\u001b[0m\u001b[0mkwargs\u001b[0m\u001b[1;33m)\u001b[0m\u001b[1;33m\u001b[0m\u001b[1;33m\u001b[0m\u001b[0m\n\u001b[0m\u001b[0;32m     28\u001b[0m         \u001b[0mself\u001b[0m\u001b[1;33m.\u001b[0m\u001b[0mcontext_args\u001b[0m \u001b[1;33m=\u001b[0m \u001b[0margs\u001b[0m\u001b[1;33m\u001b[0m\u001b[1;33m\u001b[0m\u001b[0m\n\u001b[0;32m     29\u001b[0m         \u001b[0mself\u001b[0m\u001b[1;33m.\u001b[0m\u001b[0mcontext_kwargs\u001b[0m \u001b[1;33m=\u001b[0m \u001b[0mkwargs\u001b[0m\u001b[1;33m\u001b[0m\u001b[1;33m\u001b[0m\u001b[0m\n",
      "\u001b[1;32mc:\\users\\kon2193\\pycharmprojects\\pythondummyproject\\src\\pyvalidata\\differ.py\u001b[0m in \u001b[0;36mmask\u001b[1;34m(self, *args, **kwargs)\u001b[0m\n\u001b[0;32m     96\u001b[0m \u001b[1;33m\u001b[0m\u001b[0m\n\u001b[0;32m     97\u001b[0m         \u001b[0mdiff_source\u001b[0m \u001b[1;33m=\u001b[0m \u001b[0mdiff\u001b[0m\u001b[1;33m.\u001b[0m\u001b[0mcopy\u001b[0m\u001b[1;33m(\u001b[0m\u001b[1;33m)\u001b[0m\u001b[1;33m.\u001b[0m\u001b[0mloc\u001b[0m\u001b[1;33m[\u001b[0m\u001b[1;33m(\u001b[0m\u001b[0msorted_matched_keys\u001b[0m\u001b[1;33m,\u001b[0m \u001b[1;34m'SOURCE'\u001b[0m\u001b[1;33m)\u001b[0m\u001b[1;33m,\u001b[0m \u001b[1;33m:\u001b[0m\u001b[1;33m]\u001b[0m\u001b[1;33m.\u001b[0m\u001b[0mreset_index\u001b[0m\u001b[1;33m(\u001b[0m\u001b[0mlevel\u001b[0m\u001b[1;33m=\u001b[0m\u001b[1;36m1\u001b[0m\u001b[1;33m,\u001b[0m \u001b[0mdrop\u001b[0m\u001b[1;33m=\u001b[0m\u001b[1;32mTrue\u001b[0m\u001b[1;33m)\u001b[0m\u001b[1;33m\u001b[0m\u001b[1;33m\u001b[0m\u001b[0m\n\u001b[1;32m---> 98\u001b[1;33m         \u001b[0mdiff_target\u001b[0m \u001b[1;33m=\u001b[0m \u001b[0mdiff\u001b[0m\u001b[1;33m.\u001b[0m\u001b[0mcopy\u001b[0m\u001b[1;33m(\u001b[0m\u001b[1;33m)\u001b[0m\u001b[1;33m.\u001b[0m\u001b[0mloc\u001b[0m\u001b[1;33m[\u001b[0m\u001b[1;33m(\u001b[0m\u001b[0msorted_matched_keys\u001b[0m\u001b[1;33m,\u001b[0m \u001b[1;34m'TARGET'\u001b[0m\u001b[1;33m)\u001b[0m\u001b[1;33m,\u001b[0m \u001b[1;33m:\u001b[0m\u001b[1;33m]\u001b[0m\u001b[1;33m.\u001b[0m\u001b[0mreset_index\u001b[0m\u001b[1;33m(\u001b[0m\u001b[0mlevel\u001b[0m\u001b[1;33m=\u001b[0m\u001b[1;36m1\u001b[0m\u001b[1;33m,\u001b[0m \u001b[0mdrop\u001b[0m\u001b[1;33m=\u001b[0m\u001b[1;32mTrue\u001b[0m\u001b[1;33m)\u001b[0m\u001b[1;33m\u001b[0m\u001b[1;33m\u001b[0m\u001b[0m\n\u001b[0m\u001b[0;32m     99\u001b[0m \u001b[1;33m\u001b[0m\u001b[0m\n\u001b[0;32m    100\u001b[0m         diff_matched = (\n",
      "\u001b[1;32m~\\PycharmProjects\\pythonDummyProject\\dummyvenv\\lib\\site-packages\\pandas\\core\\indexing.py\u001b[0m in \u001b[0;36m__getitem__\u001b[1;34m(self, key)\u001b[0m\n\u001b[0;32m   1065\u001b[0m             \u001b[1;32mif\u001b[0m \u001b[0mself\u001b[0m\u001b[1;33m.\u001b[0m\u001b[0m_is_scalar_access\u001b[0m\u001b[1;33m(\u001b[0m\u001b[0mkey\u001b[0m\u001b[1;33m)\u001b[0m\u001b[1;33m:\u001b[0m\u001b[1;33m\u001b[0m\u001b[1;33m\u001b[0m\u001b[0m\n\u001b[0;32m   1066\u001b[0m                 \u001b[1;32mreturn\u001b[0m \u001b[0mself\u001b[0m\u001b[1;33m.\u001b[0m\u001b[0mobj\u001b[0m\u001b[1;33m.\u001b[0m\u001b[0m_get_value\u001b[0m\u001b[1;33m(\u001b[0m\u001b[1;33m*\u001b[0m\u001b[0mkey\u001b[0m\u001b[1;33m,\u001b[0m \u001b[0mtakeable\u001b[0m\u001b[1;33m=\u001b[0m\u001b[0mself\u001b[0m\u001b[1;33m.\u001b[0m\u001b[0m_takeable\u001b[0m\u001b[1;33m)\u001b[0m\u001b[1;33m\u001b[0m\u001b[1;33m\u001b[0m\u001b[0m\n\u001b[1;32m-> 1067\u001b[1;33m             \u001b[1;32mreturn\u001b[0m \u001b[0mself\u001b[0m\u001b[1;33m.\u001b[0m\u001b[0m_getitem_tuple\u001b[0m\u001b[1;33m(\u001b[0m\u001b[0mkey\u001b[0m\u001b[1;33m)\u001b[0m\u001b[1;33m\u001b[0m\u001b[1;33m\u001b[0m\u001b[0m\n\u001b[0m\u001b[0;32m   1068\u001b[0m         \u001b[1;32melse\u001b[0m\u001b[1;33m:\u001b[0m\u001b[1;33m\u001b[0m\u001b[1;33m\u001b[0m\u001b[0m\n\u001b[0;32m   1069\u001b[0m             \u001b[1;31m# we by definition only have the 0th axis\u001b[0m\u001b[1;33m\u001b[0m\u001b[1;33m\u001b[0m\u001b[1;33m\u001b[0m\u001b[0m\n",
      "\u001b[1;32m~\\PycharmProjects\\pythonDummyProject\\dummyvenv\\lib\\site-packages\\pandas\\core\\indexing.py\u001b[0m in \u001b[0;36m_getitem_tuple\u001b[1;34m(self, tup)\u001b[0m\n\u001b[0;32m   1245\u001b[0m         \u001b[1;32mwith\u001b[0m \u001b[0msuppress\u001b[0m\u001b[1;33m(\u001b[0m\u001b[0mIndexingError\u001b[0m\u001b[1;33m)\u001b[0m\u001b[1;33m:\u001b[0m\u001b[1;33m\u001b[0m\u001b[1;33m\u001b[0m\u001b[0m\n\u001b[0;32m   1246\u001b[0m             \u001b[0mtup\u001b[0m \u001b[1;33m=\u001b[0m \u001b[0mself\u001b[0m\u001b[1;33m.\u001b[0m\u001b[0m_expand_ellipsis\u001b[0m\u001b[1;33m(\u001b[0m\u001b[0mtup\u001b[0m\u001b[1;33m)\u001b[0m\u001b[1;33m\u001b[0m\u001b[1;33m\u001b[0m\u001b[0m\n\u001b[1;32m-> 1247\u001b[1;33m             \u001b[1;32mreturn\u001b[0m \u001b[0mself\u001b[0m\u001b[1;33m.\u001b[0m\u001b[0m_getitem_lowerdim\u001b[0m\u001b[1;33m(\u001b[0m\u001b[0mtup\u001b[0m\u001b[1;33m)\u001b[0m\u001b[1;33m\u001b[0m\u001b[1;33m\u001b[0m\u001b[0m\n\u001b[0m\u001b[0;32m   1248\u001b[0m \u001b[1;33m\u001b[0m\u001b[0m\n\u001b[0;32m   1249\u001b[0m         \u001b[1;31m# no multi-index, so validate all of the indexers\u001b[0m\u001b[1;33m\u001b[0m\u001b[1;33m\u001b[0m\u001b[1;33m\u001b[0m\u001b[0m\n",
      "\u001b[1;32m~\\PycharmProjects\\pythonDummyProject\\dummyvenv\\lib\\site-packages\\pandas\\core\\indexing.py\u001b[0m in \u001b[0;36m_getitem_lowerdim\u001b[1;34m(self, tup)\u001b[0m\n\u001b[0;32m    939\u001b[0m         \u001b[1;31m# we may have a nested tuples indexer here\u001b[0m\u001b[1;33m\u001b[0m\u001b[1;33m\u001b[0m\u001b[1;33m\u001b[0m\u001b[0m\n\u001b[0;32m    940\u001b[0m         \u001b[1;32mif\u001b[0m \u001b[0mself\u001b[0m\u001b[1;33m.\u001b[0m\u001b[0m_is_nested_tuple_indexer\u001b[0m\u001b[1;33m(\u001b[0m\u001b[0mtup\u001b[0m\u001b[1;33m)\u001b[0m\u001b[1;33m:\u001b[0m\u001b[1;33m\u001b[0m\u001b[1;33m\u001b[0m\u001b[0m\n\u001b[1;32m--> 941\u001b[1;33m             \u001b[1;32mreturn\u001b[0m \u001b[0mself\u001b[0m\u001b[1;33m.\u001b[0m\u001b[0m_getitem_nested_tuple\u001b[0m\u001b[1;33m(\u001b[0m\u001b[0mtup\u001b[0m\u001b[1;33m)\u001b[0m\u001b[1;33m\u001b[0m\u001b[1;33m\u001b[0m\u001b[0m\n\u001b[0m\u001b[0;32m    942\u001b[0m \u001b[1;33m\u001b[0m\u001b[0m\n\u001b[0;32m    943\u001b[0m         \u001b[1;31m# we maybe be using a tuple to represent multiple dimensions here\u001b[0m\u001b[1;33m\u001b[0m\u001b[1;33m\u001b[0m\u001b[1;33m\u001b[0m\u001b[0m\n",
      "\u001b[1;32m~\\PycharmProjects\\pythonDummyProject\\dummyvenv\\lib\\site-packages\\pandas\\core\\indexing.py\u001b[0m in \u001b[0;36m_getitem_nested_tuple\u001b[1;34m(self, tup)\u001b[0m\n\u001b[0;32m   1045\u001b[0m                 \u001b[1;32mcontinue\u001b[0m\u001b[1;33m\u001b[0m\u001b[1;33m\u001b[0m\u001b[0m\n\u001b[0;32m   1046\u001b[0m \u001b[1;33m\u001b[0m\u001b[0m\n\u001b[1;32m-> 1047\u001b[1;33m             \u001b[0mobj\u001b[0m \u001b[1;33m=\u001b[0m \u001b[0mgetattr\u001b[0m\u001b[1;33m(\u001b[0m\u001b[0mobj\u001b[0m\u001b[1;33m,\u001b[0m \u001b[0mself\u001b[0m\u001b[1;33m.\u001b[0m\u001b[0mname\u001b[0m\u001b[1;33m)\u001b[0m\u001b[1;33m.\u001b[0m\u001b[0m_getitem_axis\u001b[0m\u001b[1;33m(\u001b[0m\u001b[0mkey\u001b[0m\u001b[1;33m,\u001b[0m \u001b[0maxis\u001b[0m\u001b[1;33m=\u001b[0m\u001b[0maxis\u001b[0m\u001b[1;33m)\u001b[0m\u001b[1;33m\u001b[0m\u001b[1;33m\u001b[0m\u001b[0m\n\u001b[0m\u001b[0;32m   1048\u001b[0m             \u001b[0maxis\u001b[0m \u001b[1;33m-=\u001b[0m \u001b[1;36m1\u001b[0m\u001b[1;33m\u001b[0m\u001b[1;33m\u001b[0m\u001b[0m\n\u001b[0;32m   1049\u001b[0m \u001b[1;33m\u001b[0m\u001b[0m\n",
      "\u001b[1;32m~\\PycharmProjects\\pythonDummyProject\\dummyvenv\\lib\\site-packages\\pandas\\core\\indexing.py\u001b[0m in \u001b[0;36m_getitem_axis\u001b[1;34m(self, key, axis)\u001b[0m\n\u001b[0;32m   1303\u001b[0m             \u001b[1;31m# nested tuple slicing\u001b[0m\u001b[1;33m\u001b[0m\u001b[1;33m\u001b[0m\u001b[1;33m\u001b[0m\u001b[0m\n\u001b[0;32m   1304\u001b[0m             \u001b[1;32mif\u001b[0m \u001b[0mis_nested_tuple\u001b[0m\u001b[1;33m(\u001b[0m\u001b[0mkey\u001b[0m\u001b[1;33m,\u001b[0m \u001b[0mlabels\u001b[0m\u001b[1;33m)\u001b[0m\u001b[1;33m:\u001b[0m\u001b[1;33m\u001b[0m\u001b[1;33m\u001b[0m\u001b[0m\n\u001b[1;32m-> 1305\u001b[1;33m                 \u001b[0mlocs\u001b[0m \u001b[1;33m=\u001b[0m \u001b[0mlabels\u001b[0m\u001b[1;33m.\u001b[0m\u001b[0mget_locs\u001b[0m\u001b[1;33m(\u001b[0m\u001b[0mkey\u001b[0m\u001b[1;33m)\u001b[0m\u001b[1;33m\u001b[0m\u001b[1;33m\u001b[0m\u001b[0m\n\u001b[0m\u001b[0;32m   1306\u001b[0m                 \u001b[0mindexer\u001b[0m \u001b[1;33m=\u001b[0m \u001b[1;33m[\u001b[0m\u001b[0mslice\u001b[0m\u001b[1;33m(\u001b[0m\u001b[1;32mNone\u001b[0m\u001b[1;33m)\u001b[0m\u001b[1;33m]\u001b[0m \u001b[1;33m*\u001b[0m \u001b[0mself\u001b[0m\u001b[1;33m.\u001b[0m\u001b[0mndim\u001b[0m\u001b[1;33m\u001b[0m\u001b[1;33m\u001b[0m\u001b[0m\n\u001b[0;32m   1307\u001b[0m                 \u001b[0mindexer\u001b[0m\u001b[1;33m[\u001b[0m\u001b[0maxis\u001b[0m\u001b[1;33m]\u001b[0m \u001b[1;33m=\u001b[0m \u001b[0mlocs\u001b[0m\u001b[1;33m\u001b[0m\u001b[1;33m\u001b[0m\u001b[0m\n",
      "\u001b[1;32m~\\PycharmProjects\\pythonDummyProject\\dummyvenv\\lib\\site-packages\\pandas\\core\\indexes\\multi.py\u001b[0m in \u001b[0;36mget_locs\u001b[1;34m(self, seq)\u001b[0m\n\u001b[0;32m   3421\u001b[0m             \u001b[1;32melse\u001b[0m\u001b[1;33m:\u001b[0m\u001b[1;33m\u001b[0m\u001b[1;33m\u001b[0m\u001b[0m\n\u001b[0;32m   3422\u001b[0m                 \u001b[1;31m# a slice or a single label\u001b[0m\u001b[1;33m\u001b[0m\u001b[1;33m\u001b[0m\u001b[1;33m\u001b[0m\u001b[0m\n\u001b[1;32m-> 3423\u001b[1;33m                 \u001b[0mlvl_indexer\u001b[0m \u001b[1;33m=\u001b[0m \u001b[0mself\u001b[0m\u001b[1;33m.\u001b[0m\u001b[0m_get_level_indexer\u001b[0m\u001b[1;33m(\u001b[0m\u001b[0mk\u001b[0m\u001b[1;33m,\u001b[0m \u001b[0mlevel\u001b[0m\u001b[1;33m=\u001b[0m\u001b[0mi\u001b[0m\u001b[1;33m,\u001b[0m \u001b[0mindexer\u001b[0m\u001b[1;33m=\u001b[0m\u001b[0mindexer\u001b[0m\u001b[1;33m)\u001b[0m\u001b[1;33m\u001b[0m\u001b[1;33m\u001b[0m\u001b[0m\n\u001b[0m\u001b[0;32m   3424\u001b[0m \u001b[1;33m\u001b[0m\u001b[0m\n\u001b[0;32m   3425\u001b[0m             \u001b[1;31m# update indexer\u001b[0m\u001b[1;33m\u001b[0m\u001b[1;33m\u001b[0m\u001b[1;33m\u001b[0m\u001b[0m\n",
      "\u001b[1;32m~\\PycharmProjects\\pythonDummyProject\\dummyvenv\\lib\\site-packages\\pandas\\core\\indexes\\multi.py\u001b[0m in \u001b[0;36m_get_level_indexer\u001b[1;34m(self, key, level, indexer)\u001b[0m\n\u001b[0;32m   3261\u001b[0m         \u001b[1;32melse\u001b[0m\u001b[1;33m:\u001b[0m\u001b[1;33m\u001b[0m\u001b[1;33m\u001b[0m\u001b[0m\n\u001b[0;32m   3262\u001b[0m \u001b[1;33m\u001b[0m\u001b[0m\n\u001b[1;32m-> 3263\u001b[1;33m             \u001b[0midx\u001b[0m \u001b[1;33m=\u001b[0m \u001b[0mself\u001b[0m\u001b[1;33m.\u001b[0m\u001b[0m_get_loc_single_level_index\u001b[0m\u001b[1;33m(\u001b[0m\u001b[0mlevel_index\u001b[0m\u001b[1;33m,\u001b[0m \u001b[0mkey\u001b[0m\u001b[1;33m)\u001b[0m\u001b[1;33m\u001b[0m\u001b[1;33m\u001b[0m\u001b[0m\n\u001b[0m\u001b[0;32m   3264\u001b[0m \u001b[1;33m\u001b[0m\u001b[0m\n\u001b[0;32m   3265\u001b[0m             \u001b[1;32mif\u001b[0m \u001b[0mlevel\u001b[0m \u001b[1;33m>\u001b[0m \u001b[1;36m0\u001b[0m \u001b[1;32mor\u001b[0m \u001b[0mself\u001b[0m\u001b[1;33m.\u001b[0m\u001b[0m_lexsort_depth\u001b[0m \u001b[1;33m==\u001b[0m \u001b[1;36m0\u001b[0m\u001b[1;33m:\u001b[0m\u001b[1;33m\u001b[0m\u001b[1;33m\u001b[0m\u001b[0m\n",
      "\u001b[1;32m~\\PycharmProjects\\pythonDummyProject\\dummyvenv\\lib\\site-packages\\pandas\\core\\indexes\\multi.py\u001b[0m in \u001b[0;36m_get_loc_single_level_index\u001b[1;34m(self, level_index, key)\u001b[0m\n\u001b[0;32m   2847\u001b[0m             \u001b[1;32mreturn\u001b[0m \u001b[1;33m-\u001b[0m\u001b[1;36m1\u001b[0m\u001b[1;33m\u001b[0m\u001b[1;33m\u001b[0m\u001b[0m\n\u001b[0;32m   2848\u001b[0m         \u001b[1;32melse\u001b[0m\u001b[1;33m:\u001b[0m\u001b[1;33m\u001b[0m\u001b[1;33m\u001b[0m\u001b[0m\n\u001b[1;32m-> 2849\u001b[1;33m             \u001b[1;32mreturn\u001b[0m \u001b[0mlevel_index\u001b[0m\u001b[1;33m.\u001b[0m\u001b[0mget_loc\u001b[0m\u001b[1;33m(\u001b[0m\u001b[0mkey\u001b[0m\u001b[1;33m)\u001b[0m\u001b[1;33m\u001b[0m\u001b[1;33m\u001b[0m\u001b[0m\n\u001b[0m\u001b[0;32m   2850\u001b[0m \u001b[1;33m\u001b[0m\u001b[0m\n\u001b[0;32m   2851\u001b[0m     \u001b[1;32mdef\u001b[0m \u001b[0mget_loc\u001b[0m\u001b[1;33m(\u001b[0m\u001b[0mself\u001b[0m\u001b[1;33m,\u001b[0m \u001b[0mkey\u001b[0m\u001b[1;33m,\u001b[0m \u001b[0mmethod\u001b[0m\u001b[1;33m=\u001b[0m\u001b[1;32mNone\u001b[0m\u001b[1;33m)\u001b[0m\u001b[1;33m:\u001b[0m\u001b[1;33m\u001b[0m\u001b[1;33m\u001b[0m\u001b[0m\n",
      "\u001b[1;32m~\\PycharmProjects\\pythonDummyProject\\dummyvenv\\lib\\site-packages\\pandas\\core\\indexes\\base.py\u001b[0m in \u001b[0;36mget_loc\u001b[1;34m(self, key, method, tolerance)\u001b[0m\n\u001b[0;32m   3803\u001b[0m                 \u001b[1;32mreturn\u001b[0m \u001b[0mself\u001b[0m\u001b[1;33m.\u001b[0m\u001b[0m_engine\u001b[0m\u001b[1;33m.\u001b[0m\u001b[0mget_loc\u001b[0m\u001b[1;33m(\u001b[0m\u001b[0mcasted_key\u001b[0m\u001b[1;33m)\u001b[0m\u001b[1;33m\u001b[0m\u001b[1;33m\u001b[0m\u001b[0m\n\u001b[0;32m   3804\u001b[0m             \u001b[1;32mexcept\u001b[0m \u001b[0mKeyError\u001b[0m \u001b[1;32mas\u001b[0m \u001b[0merr\u001b[0m\u001b[1;33m:\u001b[0m\u001b[1;33m\u001b[0m\u001b[1;33m\u001b[0m\u001b[0m\n\u001b[1;32m-> 3805\u001b[1;33m                 \u001b[1;32mraise\u001b[0m \u001b[0mKeyError\u001b[0m\u001b[1;33m(\u001b[0m\u001b[0mkey\u001b[0m\u001b[1;33m)\u001b[0m \u001b[1;32mfrom\u001b[0m \u001b[0merr\u001b[0m\u001b[1;33m\u001b[0m\u001b[1;33m\u001b[0m\u001b[0m\n\u001b[0m\u001b[0;32m   3806\u001b[0m             \u001b[1;32mexcept\u001b[0m \u001b[0mTypeError\u001b[0m\u001b[1;33m:\u001b[0m\u001b[1;33m\u001b[0m\u001b[1;33m\u001b[0m\u001b[0m\n\u001b[0;32m   3807\u001b[0m                 \u001b[1;31m# If we have a listlike key, _check_indexing_error will raise\u001b[0m\u001b[1;33m\u001b[0m\u001b[1;33m\u001b[0m\u001b[1;33m\u001b[0m\u001b[0m\n",
      "\u001b[1;31mKeyError\u001b[0m: 'TARGET'"
     ]
    }
   ],
   "source": [
    "compare_klog_kcm(dfs,kcms,folder_path)"
   ]
  },
  {
   "cell_type": "markdown",
   "metadata": {},
   "source": [
    "# KODS TLOG Comparison"
   ]
  },
  {
   "cell_type": "code",
   "execution_count": 147,
   "metadata": {},
   "outputs": [
    {
     "name": "stdout",
     "output_type": "stream",
     "text": [
      "Empty DataFrame\n",
      "Columns: [MGT_DIV_NO, STO_NO, FAC_ID, TRN_DT, TRN_TM, TML_NO, TRN_NO, ITM_ID, GTIN_NO, SCN_UNT_QY, GTIN_UOM_AM, CLY_DOL_AM, RTL_DOL_AM]\n",
      "Index: []\n"
     ]
    }
   ],
   "source": [
    "kdfs = {}\n",
    "seq_dict = {}\n",
    "for i, query in tlog_queries.items():\n",
    "    with open(\"kodsquery.sql\",'w+') as f:\n",
    "        f.write(query)\n",
    "    df = pd.read_sql_query(query, kods_conn)\n",
    "    df.sort_values(by='GTIN_NO',inplace=True)\n",
    "    df['RTL_DOL_AM']=df['RTL_DOL_AM'].astype(float).round(2)\n",
    "    df['SCN_UNT_QY']=df['SCN_UNT_QY'].astype(int)\n",
    "    seq_dict[i] = list(df['TRN_NO'])\n",
    "    kdfs[i] = df\n",
    "    print(df)"
   ]
  },
  {
   "cell_type": "code",
   "execution_count": null,
   "metadata": {},
   "outputs": [],
   "source": []
  },
  {
   "cell_type": "code",
   "execution_count": 38,
   "metadata": {
    "collapsed": true
   },
   "outputs": [
    {
     "ename": "KeyError",
     "evalue": "'TARGET'",
     "output_type": "error",
     "traceback": [
      "\u001b[1;31m---------------------------------------------------------------------------\u001b[0m",
      "\u001b[1;31mKeyError\u001b[0m                                  Traceback (most recent call last)",
      "\u001b[1;32m~\\PycharmProjects\\pythonDummyProject\\dummyvenv\\lib\\site-packages\\pandas\\core\\indexes\\base.py\u001b[0m in \u001b[0;36mget_loc\u001b[1;34m(self, key, method, tolerance)\u001b[0m\n\u001b[0;32m   3802\u001b[0m             \u001b[1;32mtry\u001b[0m\u001b[1;33m:\u001b[0m\u001b[1;33m\u001b[0m\u001b[1;33m\u001b[0m\u001b[0m\n\u001b[1;32m-> 3803\u001b[1;33m                 \u001b[1;32mreturn\u001b[0m \u001b[0mself\u001b[0m\u001b[1;33m.\u001b[0m\u001b[0m_engine\u001b[0m\u001b[1;33m.\u001b[0m\u001b[0mget_loc\u001b[0m\u001b[1;33m(\u001b[0m\u001b[0mcasted_key\u001b[0m\u001b[1;33m)\u001b[0m\u001b[1;33m\u001b[0m\u001b[1;33m\u001b[0m\u001b[0m\n\u001b[0m\u001b[0;32m   3804\u001b[0m             \u001b[1;32mexcept\u001b[0m \u001b[0mKeyError\u001b[0m \u001b[1;32mas\u001b[0m \u001b[0merr\u001b[0m\u001b[1;33m:\u001b[0m\u001b[1;33m\u001b[0m\u001b[1;33m\u001b[0m\u001b[0m\n",
      "\u001b[1;32m~\\PycharmProjects\\pythonDummyProject\\dummyvenv\\lib\\site-packages\\pandas\\_libs\\index.pyx\u001b[0m in \u001b[0;36mpandas._libs.index.IndexEngine.get_loc\u001b[1;34m()\u001b[0m\n",
      "\u001b[1;32m~\\PycharmProjects\\pythonDummyProject\\dummyvenv\\lib\\site-packages\\pandas\\_libs\\index.pyx\u001b[0m in \u001b[0;36mpandas._libs.index.IndexEngine.get_loc\u001b[1;34m()\u001b[0m\n",
      "\u001b[1;32mpandas\\_libs\\hashtable_class_helper.pxi\u001b[0m in \u001b[0;36mpandas._libs.hashtable.PyObjectHashTable.get_item\u001b[1;34m()\u001b[0m\n",
      "\u001b[1;32mpandas\\_libs\\hashtable_class_helper.pxi\u001b[0m in \u001b[0;36mpandas._libs.hashtable.PyObjectHashTable.get_item\u001b[1;34m()\u001b[0m\n",
      "\u001b[1;31mKeyError\u001b[0m: 'TARGET'",
      "\nThe above exception was the direct cause of the following exception:\n",
      "\u001b[1;31mKeyError\u001b[0m                                  Traceback (most recent call last)",
      "\u001b[1;32m<ipython-input-38-ba6512a70baf>\u001b[0m in \u001b[0;36m<module>\u001b[1;34m\u001b[0m\n\u001b[1;32m----> 1\u001b[1;33m \u001b[0mcompare_klog_kods\u001b[0m\u001b[1;33m(\u001b[0m\u001b[0mdfs\u001b[0m\u001b[1;33m,\u001b[0m\u001b[0mkdfs\u001b[0m\u001b[1;33m,\u001b[0m\u001b[0mfolder_path\u001b[0m\u001b[1;33m)\u001b[0m\u001b[1;33m\u001b[0m\u001b[1;33m\u001b[0m\u001b[0m\n\u001b[0m",
      "\u001b[1;32m<ipython-input-26-132c49b2b610>\u001b[0m in \u001b[0;36mcompare_klog_kods\u001b[1;34m(dfs, kdfs, base_path_out)\u001b[0m\n\u001b[0;32m     20\u001b[0m         \u001b[0mtrg_df\u001b[0m\u001b[1;33m.\u001b[0m\u001b[0msort_index\u001b[0m\u001b[1;33m(\u001b[0m\u001b[0minplace\u001b[0m\u001b[1;33m=\u001b[0m\u001b[1;32mTrue\u001b[0m\u001b[1;33m)\u001b[0m\u001b[1;33m\u001b[0m\u001b[1;33m\u001b[0m\u001b[0m\n\u001b[0;32m     21\u001b[0m \u001b[1;33m\u001b[0m\u001b[0m\n\u001b[1;32m---> 22\u001b[1;33m         \u001b[0mcomparison\u001b[0m \u001b[1;33m=\u001b[0m \u001b[0mpvd\u001b[0m\u001b[1;33m.\u001b[0m\u001b[0mcore\u001b[0m\u001b[1;33m.\u001b[0m\u001b[0mcompare\u001b[0m\u001b[1;33m(\u001b[0m\u001b[0msrc_df\u001b[0m\u001b[1;33m,\u001b[0m\u001b[0mtrg_df\u001b[0m\u001b[1;33m,\u001b[0m\u001b[1;34m\"demo\"\u001b[0m\u001b[1;33m)\u001b[0m\u001b[1;33m\u001b[0m\u001b[1;33m\u001b[0m\u001b[0m\n\u001b[0m\u001b[0;32m     23\u001b[0m \u001b[1;33m\u001b[0m\u001b[0m\n\u001b[0;32m     24\u001b[0m         \u001b[0mstrformat\u001b[0m \u001b[1;33m=\u001b[0m \u001b[1;34m'%m%d%Y'\u001b[0m \u001b[1;33m+\u001b[0m \u001b[1;34m'T'\u001b[0m \u001b[1;33m+\u001b[0m \u001b[1;34m'%H%M%S'\u001b[0m\u001b[1;33m\u001b[0m\u001b[1;33m\u001b[0m\u001b[0m\n",
      "\u001b[1;32mc:\\users\\kon2193\\pycharmprojects\\pythondummyproject\\src\\pyvalidata\\core.py\u001b[0m in \u001b[0;36mcompare\u001b[1;34m(source, target, *args, **kwargs)\u001b[0m\n\u001b[0;32m     33\u001b[0m \u001b[1;32mdef\u001b[0m \u001b[0mcompare\u001b[0m\u001b[1;33m(\u001b[0m\u001b[0msource\u001b[0m\u001b[1;33m:\u001b[0m \u001b[0mpd\u001b[0m\u001b[1;33m.\u001b[0m\u001b[0mDataFrame\u001b[0m\u001b[1;33m,\u001b[0m \u001b[0mtarget\u001b[0m\u001b[1;33m:\u001b[0m \u001b[0mpd\u001b[0m\u001b[1;33m.\u001b[0m\u001b[0mDataFrame\u001b[0m\u001b[1;33m,\u001b[0m \u001b[1;33m*\u001b[0m\u001b[0margs\u001b[0m\u001b[1;33m,\u001b[0m \u001b[1;33m**\u001b[0m\u001b[0mkwargs\u001b[0m\u001b[1;33m)\u001b[0m \u001b[1;33m->\u001b[0m \u001b[0mDiffer\u001b[0m\u001b[1;33m:\u001b[0m\u001b[1;33m\u001b[0m\u001b[1;33m\u001b[0m\u001b[0m\n\u001b[0;32m     34\u001b[0m     \u001b[1;34m\"\"\"Compare the source and target data\"\"\"\u001b[0m\u001b[1;33m\u001b[0m\u001b[1;33m\u001b[0m\u001b[0m\n\u001b[1;32m---> 35\u001b[1;33m     \u001b[0mcomparison\u001b[0m \u001b[1;33m=\u001b[0m \u001b[0mDiffer\u001b[0m\u001b[1;33m(\u001b[0m\u001b[0msource\u001b[0m\u001b[1;33m,\u001b[0m \u001b[0mtarget\u001b[0m\u001b[1;33m,\u001b[0m \u001b[1;33m*\u001b[0m\u001b[0margs\u001b[0m\u001b[1;33m,\u001b[0m \u001b[1;33m**\u001b[0m\u001b[0mkwargs\u001b[0m\u001b[1;33m)\u001b[0m\u001b[1;33m\u001b[0m\u001b[1;33m\u001b[0m\u001b[0m\n\u001b[0m\u001b[0;32m     36\u001b[0m \u001b[1;33m\u001b[0m\u001b[0m\n\u001b[0;32m     37\u001b[0m     \u001b[1;32mreturn\u001b[0m \u001b[0mcomparison\u001b[0m\u001b[1;33m\u001b[0m\u001b[1;33m\u001b[0m\u001b[0m\n",
      "\u001b[1;32mc:\\users\\kon2193\\pycharmprojects\\pythondummyproject\\src\\pyvalidata\\differ.py\u001b[0m in \u001b[0;36m__init__\u001b[1;34m(self, source, target, *args, **kwargs)\u001b[0m\n\u001b[0;32m     25\u001b[0m         \u001b[0mself\u001b[0m\u001b[1;33m.\u001b[0m\u001b[0mtarget\u001b[0m \u001b[1;33m=\u001b[0m \u001b[0mtarget\u001b[0m\u001b[1;33m.\u001b[0m\u001b[0mrename_axis\u001b[0m\u001b[1;33m(\u001b[0m\u001b[1;34m'Index'\u001b[0m\u001b[1;33m)\u001b[0m\u001b[1;33m\u001b[0m\u001b[1;33m\u001b[0m\u001b[0m\n\u001b[0;32m     26\u001b[0m         \u001b[0mself\u001b[0m\u001b[1;33m.\u001b[0m\u001b[0mdiff\u001b[0m \u001b[1;33m=\u001b[0m \u001b[0mself\u001b[0m\u001b[1;33m.\u001b[0m\u001b[0mdiff\u001b[0m\u001b[1;33m(\u001b[0m\u001b[1;33m*\u001b[0m\u001b[0margs\u001b[0m\u001b[1;33m,\u001b[0m \u001b[1;33m**\u001b[0m\u001b[0mkwargs\u001b[0m\u001b[1;33m)\u001b[0m\u001b[1;33m\u001b[0m\u001b[1;33m\u001b[0m\u001b[0m\n\u001b[1;32m---> 27\u001b[1;33m         \u001b[0mself\u001b[0m\u001b[1;33m.\u001b[0m\u001b[0mmask\u001b[0m \u001b[1;33m=\u001b[0m \u001b[0mself\u001b[0m\u001b[1;33m.\u001b[0m\u001b[0mmask\u001b[0m\u001b[1;33m(\u001b[0m\u001b[1;33m*\u001b[0m\u001b[0margs\u001b[0m\u001b[1;33m,\u001b[0m \u001b[1;33m**\u001b[0m\u001b[0mkwargs\u001b[0m\u001b[1;33m)\u001b[0m\u001b[1;33m\u001b[0m\u001b[1;33m\u001b[0m\u001b[0m\n\u001b[0m\u001b[0;32m     28\u001b[0m         \u001b[0mself\u001b[0m\u001b[1;33m.\u001b[0m\u001b[0mcontext_args\u001b[0m \u001b[1;33m=\u001b[0m \u001b[0margs\u001b[0m\u001b[1;33m\u001b[0m\u001b[1;33m\u001b[0m\u001b[0m\n\u001b[0;32m     29\u001b[0m         \u001b[0mself\u001b[0m\u001b[1;33m.\u001b[0m\u001b[0mcontext_kwargs\u001b[0m \u001b[1;33m=\u001b[0m \u001b[0mkwargs\u001b[0m\u001b[1;33m\u001b[0m\u001b[1;33m\u001b[0m\u001b[0m\n",
      "\u001b[1;32mc:\\users\\kon2193\\pycharmprojects\\pythondummyproject\\src\\pyvalidata\\differ.py\u001b[0m in \u001b[0;36mmask\u001b[1;34m(self, *args, **kwargs)\u001b[0m\n\u001b[0;32m     96\u001b[0m \u001b[1;33m\u001b[0m\u001b[0m\n\u001b[0;32m     97\u001b[0m         \u001b[0mdiff_source\u001b[0m \u001b[1;33m=\u001b[0m \u001b[0mdiff\u001b[0m\u001b[1;33m.\u001b[0m\u001b[0mcopy\u001b[0m\u001b[1;33m(\u001b[0m\u001b[1;33m)\u001b[0m\u001b[1;33m.\u001b[0m\u001b[0mloc\u001b[0m\u001b[1;33m[\u001b[0m\u001b[1;33m(\u001b[0m\u001b[0msorted_matched_keys\u001b[0m\u001b[1;33m,\u001b[0m \u001b[1;34m'SOURCE'\u001b[0m\u001b[1;33m)\u001b[0m\u001b[1;33m,\u001b[0m \u001b[1;33m:\u001b[0m\u001b[1;33m]\u001b[0m\u001b[1;33m.\u001b[0m\u001b[0mreset_index\u001b[0m\u001b[1;33m(\u001b[0m\u001b[0mlevel\u001b[0m\u001b[1;33m=\u001b[0m\u001b[1;36m1\u001b[0m\u001b[1;33m,\u001b[0m \u001b[0mdrop\u001b[0m\u001b[1;33m=\u001b[0m\u001b[1;32mTrue\u001b[0m\u001b[1;33m)\u001b[0m\u001b[1;33m\u001b[0m\u001b[1;33m\u001b[0m\u001b[0m\n\u001b[1;32m---> 98\u001b[1;33m         \u001b[0mdiff_target\u001b[0m \u001b[1;33m=\u001b[0m \u001b[0mdiff\u001b[0m\u001b[1;33m.\u001b[0m\u001b[0mcopy\u001b[0m\u001b[1;33m(\u001b[0m\u001b[1;33m)\u001b[0m\u001b[1;33m.\u001b[0m\u001b[0mloc\u001b[0m\u001b[1;33m[\u001b[0m\u001b[1;33m(\u001b[0m\u001b[0msorted_matched_keys\u001b[0m\u001b[1;33m,\u001b[0m \u001b[1;34m'TARGET'\u001b[0m\u001b[1;33m)\u001b[0m\u001b[1;33m,\u001b[0m \u001b[1;33m:\u001b[0m\u001b[1;33m]\u001b[0m\u001b[1;33m.\u001b[0m\u001b[0mreset_index\u001b[0m\u001b[1;33m(\u001b[0m\u001b[0mlevel\u001b[0m\u001b[1;33m=\u001b[0m\u001b[1;36m1\u001b[0m\u001b[1;33m,\u001b[0m \u001b[0mdrop\u001b[0m\u001b[1;33m=\u001b[0m\u001b[1;32mTrue\u001b[0m\u001b[1;33m)\u001b[0m\u001b[1;33m\u001b[0m\u001b[1;33m\u001b[0m\u001b[0m\n\u001b[0m\u001b[0;32m     99\u001b[0m \u001b[1;33m\u001b[0m\u001b[0m\n\u001b[0;32m    100\u001b[0m         diff_matched = (\n",
      "\u001b[1;32m~\\PycharmProjects\\pythonDummyProject\\dummyvenv\\lib\\site-packages\\pandas\\core\\indexing.py\u001b[0m in \u001b[0;36m__getitem__\u001b[1;34m(self, key)\u001b[0m\n\u001b[0;32m   1065\u001b[0m             \u001b[1;32mif\u001b[0m \u001b[0mself\u001b[0m\u001b[1;33m.\u001b[0m\u001b[0m_is_scalar_access\u001b[0m\u001b[1;33m(\u001b[0m\u001b[0mkey\u001b[0m\u001b[1;33m)\u001b[0m\u001b[1;33m:\u001b[0m\u001b[1;33m\u001b[0m\u001b[1;33m\u001b[0m\u001b[0m\n\u001b[0;32m   1066\u001b[0m                 \u001b[1;32mreturn\u001b[0m \u001b[0mself\u001b[0m\u001b[1;33m.\u001b[0m\u001b[0mobj\u001b[0m\u001b[1;33m.\u001b[0m\u001b[0m_get_value\u001b[0m\u001b[1;33m(\u001b[0m\u001b[1;33m*\u001b[0m\u001b[0mkey\u001b[0m\u001b[1;33m,\u001b[0m \u001b[0mtakeable\u001b[0m\u001b[1;33m=\u001b[0m\u001b[0mself\u001b[0m\u001b[1;33m.\u001b[0m\u001b[0m_takeable\u001b[0m\u001b[1;33m)\u001b[0m\u001b[1;33m\u001b[0m\u001b[1;33m\u001b[0m\u001b[0m\n\u001b[1;32m-> 1067\u001b[1;33m             \u001b[1;32mreturn\u001b[0m \u001b[0mself\u001b[0m\u001b[1;33m.\u001b[0m\u001b[0m_getitem_tuple\u001b[0m\u001b[1;33m(\u001b[0m\u001b[0mkey\u001b[0m\u001b[1;33m)\u001b[0m\u001b[1;33m\u001b[0m\u001b[1;33m\u001b[0m\u001b[0m\n\u001b[0m\u001b[0;32m   1068\u001b[0m         \u001b[1;32melse\u001b[0m\u001b[1;33m:\u001b[0m\u001b[1;33m\u001b[0m\u001b[1;33m\u001b[0m\u001b[0m\n\u001b[0;32m   1069\u001b[0m             \u001b[1;31m# we by definition only have the 0th axis\u001b[0m\u001b[1;33m\u001b[0m\u001b[1;33m\u001b[0m\u001b[1;33m\u001b[0m\u001b[0m\n",
      "\u001b[1;32m~\\PycharmProjects\\pythonDummyProject\\dummyvenv\\lib\\site-packages\\pandas\\core\\indexing.py\u001b[0m in \u001b[0;36m_getitem_tuple\u001b[1;34m(self, tup)\u001b[0m\n\u001b[0;32m   1245\u001b[0m         \u001b[1;32mwith\u001b[0m \u001b[0msuppress\u001b[0m\u001b[1;33m(\u001b[0m\u001b[0mIndexingError\u001b[0m\u001b[1;33m)\u001b[0m\u001b[1;33m:\u001b[0m\u001b[1;33m\u001b[0m\u001b[1;33m\u001b[0m\u001b[0m\n\u001b[0;32m   1246\u001b[0m             \u001b[0mtup\u001b[0m \u001b[1;33m=\u001b[0m \u001b[0mself\u001b[0m\u001b[1;33m.\u001b[0m\u001b[0m_expand_ellipsis\u001b[0m\u001b[1;33m(\u001b[0m\u001b[0mtup\u001b[0m\u001b[1;33m)\u001b[0m\u001b[1;33m\u001b[0m\u001b[1;33m\u001b[0m\u001b[0m\n\u001b[1;32m-> 1247\u001b[1;33m             \u001b[1;32mreturn\u001b[0m \u001b[0mself\u001b[0m\u001b[1;33m.\u001b[0m\u001b[0m_getitem_lowerdim\u001b[0m\u001b[1;33m(\u001b[0m\u001b[0mtup\u001b[0m\u001b[1;33m)\u001b[0m\u001b[1;33m\u001b[0m\u001b[1;33m\u001b[0m\u001b[0m\n\u001b[0m\u001b[0;32m   1248\u001b[0m \u001b[1;33m\u001b[0m\u001b[0m\n\u001b[0;32m   1249\u001b[0m         \u001b[1;31m# no multi-index, so validate all of the indexers\u001b[0m\u001b[1;33m\u001b[0m\u001b[1;33m\u001b[0m\u001b[1;33m\u001b[0m\u001b[0m\n",
      "\u001b[1;32m~\\PycharmProjects\\pythonDummyProject\\dummyvenv\\lib\\site-packages\\pandas\\core\\indexing.py\u001b[0m in \u001b[0;36m_getitem_lowerdim\u001b[1;34m(self, tup)\u001b[0m\n\u001b[0;32m    939\u001b[0m         \u001b[1;31m# we may have a nested tuples indexer here\u001b[0m\u001b[1;33m\u001b[0m\u001b[1;33m\u001b[0m\u001b[1;33m\u001b[0m\u001b[0m\n\u001b[0;32m    940\u001b[0m         \u001b[1;32mif\u001b[0m \u001b[0mself\u001b[0m\u001b[1;33m.\u001b[0m\u001b[0m_is_nested_tuple_indexer\u001b[0m\u001b[1;33m(\u001b[0m\u001b[0mtup\u001b[0m\u001b[1;33m)\u001b[0m\u001b[1;33m:\u001b[0m\u001b[1;33m\u001b[0m\u001b[1;33m\u001b[0m\u001b[0m\n\u001b[1;32m--> 941\u001b[1;33m             \u001b[1;32mreturn\u001b[0m \u001b[0mself\u001b[0m\u001b[1;33m.\u001b[0m\u001b[0m_getitem_nested_tuple\u001b[0m\u001b[1;33m(\u001b[0m\u001b[0mtup\u001b[0m\u001b[1;33m)\u001b[0m\u001b[1;33m\u001b[0m\u001b[1;33m\u001b[0m\u001b[0m\n\u001b[0m\u001b[0;32m    942\u001b[0m \u001b[1;33m\u001b[0m\u001b[0m\n\u001b[0;32m    943\u001b[0m         \u001b[1;31m# we maybe be using a tuple to represent multiple dimensions here\u001b[0m\u001b[1;33m\u001b[0m\u001b[1;33m\u001b[0m\u001b[1;33m\u001b[0m\u001b[0m\n",
      "\u001b[1;32m~\\PycharmProjects\\pythonDummyProject\\dummyvenv\\lib\\site-packages\\pandas\\core\\indexing.py\u001b[0m in \u001b[0;36m_getitem_nested_tuple\u001b[1;34m(self, tup)\u001b[0m\n\u001b[0;32m   1045\u001b[0m                 \u001b[1;32mcontinue\u001b[0m\u001b[1;33m\u001b[0m\u001b[1;33m\u001b[0m\u001b[0m\n\u001b[0;32m   1046\u001b[0m \u001b[1;33m\u001b[0m\u001b[0m\n\u001b[1;32m-> 1047\u001b[1;33m             \u001b[0mobj\u001b[0m \u001b[1;33m=\u001b[0m \u001b[0mgetattr\u001b[0m\u001b[1;33m(\u001b[0m\u001b[0mobj\u001b[0m\u001b[1;33m,\u001b[0m \u001b[0mself\u001b[0m\u001b[1;33m.\u001b[0m\u001b[0mname\u001b[0m\u001b[1;33m)\u001b[0m\u001b[1;33m.\u001b[0m\u001b[0m_getitem_axis\u001b[0m\u001b[1;33m(\u001b[0m\u001b[0mkey\u001b[0m\u001b[1;33m,\u001b[0m \u001b[0maxis\u001b[0m\u001b[1;33m=\u001b[0m\u001b[0maxis\u001b[0m\u001b[1;33m)\u001b[0m\u001b[1;33m\u001b[0m\u001b[1;33m\u001b[0m\u001b[0m\n\u001b[0m\u001b[0;32m   1048\u001b[0m             \u001b[0maxis\u001b[0m \u001b[1;33m-=\u001b[0m \u001b[1;36m1\u001b[0m\u001b[1;33m\u001b[0m\u001b[1;33m\u001b[0m\u001b[0m\n\u001b[0;32m   1049\u001b[0m \u001b[1;33m\u001b[0m\u001b[0m\n",
      "\u001b[1;32m~\\PycharmProjects\\pythonDummyProject\\dummyvenv\\lib\\site-packages\\pandas\\core\\indexing.py\u001b[0m in \u001b[0;36m_getitem_axis\u001b[1;34m(self, key, axis)\u001b[0m\n\u001b[0;32m   1303\u001b[0m             \u001b[1;31m# nested tuple slicing\u001b[0m\u001b[1;33m\u001b[0m\u001b[1;33m\u001b[0m\u001b[1;33m\u001b[0m\u001b[0m\n\u001b[0;32m   1304\u001b[0m             \u001b[1;32mif\u001b[0m \u001b[0mis_nested_tuple\u001b[0m\u001b[1;33m(\u001b[0m\u001b[0mkey\u001b[0m\u001b[1;33m,\u001b[0m \u001b[0mlabels\u001b[0m\u001b[1;33m)\u001b[0m\u001b[1;33m:\u001b[0m\u001b[1;33m\u001b[0m\u001b[1;33m\u001b[0m\u001b[0m\n\u001b[1;32m-> 1305\u001b[1;33m                 \u001b[0mlocs\u001b[0m \u001b[1;33m=\u001b[0m \u001b[0mlabels\u001b[0m\u001b[1;33m.\u001b[0m\u001b[0mget_locs\u001b[0m\u001b[1;33m(\u001b[0m\u001b[0mkey\u001b[0m\u001b[1;33m)\u001b[0m\u001b[1;33m\u001b[0m\u001b[1;33m\u001b[0m\u001b[0m\n\u001b[0m\u001b[0;32m   1306\u001b[0m                 \u001b[0mindexer\u001b[0m \u001b[1;33m=\u001b[0m \u001b[1;33m[\u001b[0m\u001b[0mslice\u001b[0m\u001b[1;33m(\u001b[0m\u001b[1;32mNone\u001b[0m\u001b[1;33m)\u001b[0m\u001b[1;33m]\u001b[0m \u001b[1;33m*\u001b[0m \u001b[0mself\u001b[0m\u001b[1;33m.\u001b[0m\u001b[0mndim\u001b[0m\u001b[1;33m\u001b[0m\u001b[1;33m\u001b[0m\u001b[0m\n\u001b[0;32m   1307\u001b[0m                 \u001b[0mindexer\u001b[0m\u001b[1;33m[\u001b[0m\u001b[0maxis\u001b[0m\u001b[1;33m]\u001b[0m \u001b[1;33m=\u001b[0m \u001b[0mlocs\u001b[0m\u001b[1;33m\u001b[0m\u001b[1;33m\u001b[0m\u001b[0m\n",
      "\u001b[1;32m~\\PycharmProjects\\pythonDummyProject\\dummyvenv\\lib\\site-packages\\pandas\\core\\indexes\\multi.py\u001b[0m in \u001b[0;36mget_locs\u001b[1;34m(self, seq)\u001b[0m\n\u001b[0;32m   3421\u001b[0m             \u001b[1;32melse\u001b[0m\u001b[1;33m:\u001b[0m\u001b[1;33m\u001b[0m\u001b[1;33m\u001b[0m\u001b[0m\n\u001b[0;32m   3422\u001b[0m                 \u001b[1;31m# a slice or a single label\u001b[0m\u001b[1;33m\u001b[0m\u001b[1;33m\u001b[0m\u001b[1;33m\u001b[0m\u001b[0m\n\u001b[1;32m-> 3423\u001b[1;33m                 \u001b[0mlvl_indexer\u001b[0m \u001b[1;33m=\u001b[0m \u001b[0mself\u001b[0m\u001b[1;33m.\u001b[0m\u001b[0m_get_level_indexer\u001b[0m\u001b[1;33m(\u001b[0m\u001b[0mk\u001b[0m\u001b[1;33m,\u001b[0m \u001b[0mlevel\u001b[0m\u001b[1;33m=\u001b[0m\u001b[0mi\u001b[0m\u001b[1;33m,\u001b[0m \u001b[0mindexer\u001b[0m\u001b[1;33m=\u001b[0m\u001b[0mindexer\u001b[0m\u001b[1;33m)\u001b[0m\u001b[1;33m\u001b[0m\u001b[1;33m\u001b[0m\u001b[0m\n\u001b[0m\u001b[0;32m   3424\u001b[0m \u001b[1;33m\u001b[0m\u001b[0m\n\u001b[0;32m   3425\u001b[0m             \u001b[1;31m# update indexer\u001b[0m\u001b[1;33m\u001b[0m\u001b[1;33m\u001b[0m\u001b[1;33m\u001b[0m\u001b[0m\n",
      "\u001b[1;32m~\\PycharmProjects\\pythonDummyProject\\dummyvenv\\lib\\site-packages\\pandas\\core\\indexes\\multi.py\u001b[0m in \u001b[0;36m_get_level_indexer\u001b[1;34m(self, key, level, indexer)\u001b[0m\n\u001b[0;32m   3261\u001b[0m         \u001b[1;32melse\u001b[0m\u001b[1;33m:\u001b[0m\u001b[1;33m\u001b[0m\u001b[1;33m\u001b[0m\u001b[0m\n\u001b[0;32m   3262\u001b[0m \u001b[1;33m\u001b[0m\u001b[0m\n\u001b[1;32m-> 3263\u001b[1;33m             \u001b[0midx\u001b[0m \u001b[1;33m=\u001b[0m \u001b[0mself\u001b[0m\u001b[1;33m.\u001b[0m\u001b[0m_get_loc_single_level_index\u001b[0m\u001b[1;33m(\u001b[0m\u001b[0mlevel_index\u001b[0m\u001b[1;33m,\u001b[0m \u001b[0mkey\u001b[0m\u001b[1;33m)\u001b[0m\u001b[1;33m\u001b[0m\u001b[1;33m\u001b[0m\u001b[0m\n\u001b[0m\u001b[0;32m   3264\u001b[0m \u001b[1;33m\u001b[0m\u001b[0m\n\u001b[0;32m   3265\u001b[0m             \u001b[1;32mif\u001b[0m \u001b[0mlevel\u001b[0m \u001b[1;33m>\u001b[0m \u001b[1;36m0\u001b[0m \u001b[1;32mor\u001b[0m \u001b[0mself\u001b[0m\u001b[1;33m.\u001b[0m\u001b[0m_lexsort_depth\u001b[0m \u001b[1;33m==\u001b[0m \u001b[1;36m0\u001b[0m\u001b[1;33m:\u001b[0m\u001b[1;33m\u001b[0m\u001b[1;33m\u001b[0m\u001b[0m\n",
      "\u001b[1;32m~\\PycharmProjects\\pythonDummyProject\\dummyvenv\\lib\\site-packages\\pandas\\core\\indexes\\multi.py\u001b[0m in \u001b[0;36m_get_loc_single_level_index\u001b[1;34m(self, level_index, key)\u001b[0m\n\u001b[0;32m   2847\u001b[0m             \u001b[1;32mreturn\u001b[0m \u001b[1;33m-\u001b[0m\u001b[1;36m1\u001b[0m\u001b[1;33m\u001b[0m\u001b[1;33m\u001b[0m\u001b[0m\n\u001b[0;32m   2848\u001b[0m         \u001b[1;32melse\u001b[0m\u001b[1;33m:\u001b[0m\u001b[1;33m\u001b[0m\u001b[1;33m\u001b[0m\u001b[0m\n\u001b[1;32m-> 2849\u001b[1;33m             \u001b[1;32mreturn\u001b[0m \u001b[0mlevel_index\u001b[0m\u001b[1;33m.\u001b[0m\u001b[0mget_loc\u001b[0m\u001b[1;33m(\u001b[0m\u001b[0mkey\u001b[0m\u001b[1;33m)\u001b[0m\u001b[1;33m\u001b[0m\u001b[1;33m\u001b[0m\u001b[0m\n\u001b[0m\u001b[0;32m   2850\u001b[0m \u001b[1;33m\u001b[0m\u001b[0m\n\u001b[0;32m   2851\u001b[0m     \u001b[1;32mdef\u001b[0m \u001b[0mget_loc\u001b[0m\u001b[1;33m(\u001b[0m\u001b[0mself\u001b[0m\u001b[1;33m,\u001b[0m \u001b[0mkey\u001b[0m\u001b[1;33m,\u001b[0m \u001b[0mmethod\u001b[0m\u001b[1;33m=\u001b[0m\u001b[1;32mNone\u001b[0m\u001b[1;33m)\u001b[0m\u001b[1;33m:\u001b[0m\u001b[1;33m\u001b[0m\u001b[1;33m\u001b[0m\u001b[0m\n",
      "\u001b[1;32m~\\PycharmProjects\\pythonDummyProject\\dummyvenv\\lib\\site-packages\\pandas\\core\\indexes\\base.py\u001b[0m in \u001b[0;36mget_loc\u001b[1;34m(self, key, method, tolerance)\u001b[0m\n\u001b[0;32m   3803\u001b[0m                 \u001b[1;32mreturn\u001b[0m \u001b[0mself\u001b[0m\u001b[1;33m.\u001b[0m\u001b[0m_engine\u001b[0m\u001b[1;33m.\u001b[0m\u001b[0mget_loc\u001b[0m\u001b[1;33m(\u001b[0m\u001b[0mcasted_key\u001b[0m\u001b[1;33m)\u001b[0m\u001b[1;33m\u001b[0m\u001b[1;33m\u001b[0m\u001b[0m\n\u001b[0;32m   3804\u001b[0m             \u001b[1;32mexcept\u001b[0m \u001b[0mKeyError\u001b[0m \u001b[1;32mas\u001b[0m \u001b[0merr\u001b[0m\u001b[1;33m:\u001b[0m\u001b[1;33m\u001b[0m\u001b[1;33m\u001b[0m\u001b[0m\n\u001b[1;32m-> 3805\u001b[1;33m                 \u001b[1;32mraise\u001b[0m \u001b[0mKeyError\u001b[0m\u001b[1;33m(\u001b[0m\u001b[0mkey\u001b[0m\u001b[1;33m)\u001b[0m \u001b[1;32mfrom\u001b[0m \u001b[0merr\u001b[0m\u001b[1;33m\u001b[0m\u001b[1;33m\u001b[0m\u001b[0m\n\u001b[0m\u001b[0;32m   3806\u001b[0m             \u001b[1;32mexcept\u001b[0m \u001b[0mTypeError\u001b[0m\u001b[1;33m:\u001b[0m\u001b[1;33m\u001b[0m\u001b[1;33m\u001b[0m\u001b[0m\n\u001b[0;32m   3807\u001b[0m                 \u001b[1;31m# If we have a listlike key, _check_indexing_error will raise\u001b[0m\u001b[1;33m\u001b[0m\u001b[1;33m\u001b[0m\u001b[1;33m\u001b[0m\u001b[0m\n",
      "\u001b[1;31mKeyError\u001b[0m: 'TARGET'"
     ]
    }
   ],
   "source": [
    "compare_klog_kods(dfs,kdfs,folder_path)"
   ]
  },
  {
   "cell_type": "markdown",
   "metadata": {},
   "source": [
    "# Missing Sequence no from KODS TLOG"
   ]
  },
  {
   "cell_type": "code",
   "execution_count": 66,
   "metadata": {},
   "outputs": [],
   "source": [
    "missing_sequence_no={}\n",
    "for k,v in pdict.items():\n",
    "    klog=v['sequence'].split(',')\n",
    "    tlog = seq_dict[k]\n",
    "    missing_sequence_no[k]=[x for x in klog if x not in tlog]"
   ]
  },
  {
   "cell_type": "code",
   "execution_count": 67,
   "metadata": {},
   "outputs": [
    {
     "data": {
      "text/plain": [
       "{'1230045299981171201': ['7', ' 7424', ' 7566', ' 7563'],\n",
       " '1230046319662747301': ['8', ' 5539']}"
      ]
     },
     "execution_count": 67,
     "metadata": {},
     "output_type": "execute_result"
    }
   ],
   "source": [
    "missing_sequence_no"
   ]
  },
  {
   "cell_type": "code",
   "execution_count": null,
   "metadata": {},
   "outputs": [],
   "source": []
  },
  {
   "cell_type": "code",
   "execution_count": null,
   "metadata": {},
   "outputs": [],
   "source": []
  },
  {
   "cell_type": "code",
   "execution_count": null,
   "metadata": {},
   "outputs": [],
   "source": []
  }
 ],
 "metadata": {
  "kernelspec": {
   "display_name": "venv",
   "language": "python",
   "name": "venv"
  },
  "language_info": {
   "codemirror_mode": {
    "name": "ipython",
    "version": 3
   },
   "file_extension": ".py",
   "mimetype": "text/x-python",
   "name": "python",
   "nbconvert_exporter": "python",
   "pygments_lexer": "ipython3",
   "version": "3.9.5"
  }
 },
 "nbformat": 4,
 "nbformat_minor": 4
}
