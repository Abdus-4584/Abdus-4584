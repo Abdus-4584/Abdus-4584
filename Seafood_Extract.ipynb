{
 "cells": [
  {
   "cell_type": "code",
   "execution_count": 1,
   "id": "156219b2",
   "metadata": {},
   "outputs": [],
   "source": [
    "import glob\n",
    "import os\n",
    "import pandas as pd\n",
    "import shutil\n",
    "import re"
   ]
  },
  {
   "cell_type": "code",
   "execution_count": 55,
   "id": "1df42942",
   "metadata": {},
   "outputs": [],
   "source": [
    "def rename_and_copy_file(mvt_file, destination_folder):\n",
    "    # Create a copy of the original file\n",
    "    copied_file = os.path.join(destination_folder, os.path.basename(mvt_file))\n",
    "    shutil.copy2(mvt_file, copied_file)\n",
    "\n",
    "    # Rename the copied file to .csv\n",
    "    csv_file = os.path.splitext(copied_file)[0] + '.csv'\n",
    "    os.rename(copied_file, csv_file)\n",
    "\n",
    "    # Return the path to the renamed .csv file\n",
    "    return csv_file"
   ]
  },
  {
   "cell_type": "code",
   "execution_count": 56,
   "id": "79cf0845",
   "metadata": {},
   "outputs": [],
   "source": [
    "# Specify the directory where the files are located\n",
    "directory = \"C:\\\\Users\\\\AS81970\\\\Desktop\\\\Q2 2023\\\\FAO Needs\"\n",
    "\n",
    "# Specify the pattern to match the files (including the common part of the filename)\n",
    "file_pattern = \"014_adc_pos_daily_*.mvt\"\n",
    "\n",
    "# Find all files matching the pattern\n",
    "files = glob.glob(os.path.join(directory, file_pattern))\n",
    "\n",
    "# Sort the files by modification time (most recent file comes first)\n",
    "files.sort(key=os.path.getmtime, reverse=False)\n",
    "\n",
    "# Get the path of the latest file\n",
    "latest_file = files[0]"
   ]
  },
  {
   "cell_type": "code",
   "execution_count": 57,
   "id": "e906893b",
   "metadata": {},
   "outputs": [],
   "source": [
    "# Rename and copy the latest file to the destination folder\n",
    "destination_folder = \"C:\\\\Users\\\\AS81970\\\\Desktop\\\\Q2 2023\\\\FAO Needs\\\\Converted\"\n",
    "copied_csv_file = rename_and_copy_file(latest_file, destination_folder)"
   ]
  },
  {
   "cell_type": "code",
   "execution_count": 58,
   "id": "88ea1521",
   "metadata": {},
   "outputs": [
    {
     "name": "stdout",
     "output_type": "stream",
     "text": [
      "C:\\Users\\AS81970\\Desktop\\Q2 2023\\FAO Needs\\Converted\\014_adc_pos_daily_20230717.csv\n"
     ]
    }
   ],
   "source": [
    "print(copied_csv_file)"
   ]
  },
  {
   "cell_type": "code",
   "execution_count": 59,
   "id": "a3a9bf39",
   "metadata": {
    "scrolled": true
   },
   "outputs": [],
   "source": [
    "# Read the data from the CSV file, skipping the rows based on a condition\n",
    "df = pd.read_csv(copied_csv_file, sep=',', header=None, skiprows=lambda x: str(x) == '0' or (isinstance(x, str) and x.startswith('@')))"
   ]
  },
  {
   "cell_type": "code",
   "execution_count": 60,
   "id": "d05d4cb0",
   "metadata": {},
   "outputs": [
    {
     "data": {
      "text/html": [
       "<div>\n",
       "<style scoped>\n",
       "    .dataframe tbody tr th:only-of-type {\n",
       "        vertical-align: middle;\n",
       "    }\n",
       "\n",
       "    .dataframe tbody tr th {\n",
       "        vertical-align: top;\n",
       "    }\n",
       "\n",
       "    .dataframe thead th {\n",
       "        text-align: right;\n",
       "    }\n",
       "</style>\n",
       "<table border=\"1\" class=\"dataframe\">\n",
       "  <thead>\n",
       "    <tr style=\"text-align: right;\">\n",
       "      <th></th>\n",
       "      <th>0</th>\n",
       "      <th>1</th>\n",
       "      <th>2</th>\n",
       "      <th>3</th>\n",
       "      <th>4</th>\n",
       "      <th>5</th>\n",
       "      <th>6</th>\n",
       "      <th>7</th>\n",
       "      <th>8</th>\n",
       "      <th>9</th>\n",
       "    </tr>\n",
       "  </thead>\n",
       "  <tbody>\n",
       "    <tr>\n",
       "      <th>0</th>\n",
       "      <td>1400335</td>\n",
       "      <td>20230716083800</td>\n",
       "      <td>NaN</td>\n",
       "      <td>NaN</td>\n",
       "      <td>21635000000</td>\n",
       "      <td>W</td>\n",
       "      <td>1.05</td>\n",
       "      <td>7.34</td>\n",
       "      <td>NaN</td>\n",
       "      <td>NaN</td>\n",
       "    </tr>\n",
       "    <tr>\n",
       "      <th>1</th>\n",
       "      <td>1400335</td>\n",
       "      <td>20230716083800</td>\n",
       "      <td>NaN</td>\n",
       "      <td>NaN</td>\n",
       "      <td>22594100000</td>\n",
       "      <td>W</td>\n",
       "      <td>0.56</td>\n",
       "      <td>7.83</td>\n",
       "      <td>NaN</td>\n",
       "      <td>NaN</td>\n",
       "    </tr>\n",
       "    <tr>\n",
       "      <th>2</th>\n",
       "      <td>1400335</td>\n",
       "      <td>20230716083800</td>\n",
       "      <td>NaN</td>\n",
       "      <td>NaN</td>\n",
       "      <td>23583540000</td>\n",
       "      <td>W</td>\n",
       "      <td>1.07</td>\n",
       "      <td>10.15</td>\n",
       "      <td>NaN</td>\n",
       "      <td>NaN</td>\n",
       "    </tr>\n",
       "    <tr>\n",
       "      <th>3</th>\n",
       "      <td>1400335</td>\n",
       "      <td>20230716084900</td>\n",
       "      <td>NaN</td>\n",
       "      <td>NaN</td>\n",
       "      <td>23710010000</td>\n",
       "      <td>W</td>\n",
       "      <td>0.91</td>\n",
       "      <td>5.45</td>\n",
       "      <td>NaN</td>\n",
       "      <td>NaN</td>\n",
       "    </tr>\n",
       "    <tr>\n",
       "      <th>4</th>\n",
       "      <td>1400335</td>\n",
       "      <td>20230716091000</td>\n",
       "      <td>NaN</td>\n",
       "      <td>NaN</td>\n",
       "      <td>20564890000</td>\n",
       "      <td>W</td>\n",
       "      <td>0.73</td>\n",
       "      <td>7.66</td>\n",
       "      <td>NaN</td>\n",
       "      <td>NaN</td>\n",
       "    </tr>\n",
       "  </tbody>\n",
       "</table>\n",
       "</div>"
      ],
      "text/plain": [
       "         0               1   2   3            4  5     6      7   8   9\n",
       "0  1400335  20230716083800 NaN NaN  21635000000  W  1.05   7.34 NaN NaN\n",
       "1  1400335  20230716083800 NaN NaN  22594100000  W  0.56   7.83 NaN NaN\n",
       "2  1400335  20230716083800 NaN NaN  23583540000  W  1.07  10.15 NaN NaN\n",
       "3  1400335  20230716084900 NaN NaN  23710010000  W  0.91   5.45 NaN NaN\n",
       "4  1400335  20230716091000 NaN NaN  20564890000  W  0.73   7.66 NaN NaN"
      ]
     },
     "execution_count": 60,
     "metadata": {},
     "output_type": "execute_result"
    }
   ],
   "source": [
    "df.head()"
   ]
  },
  {
   "cell_type": "code",
   "execution_count": 61,
   "id": "5a5a874e",
   "metadata": {},
   "outputs": [],
   "source": [
    "# Set the column names\n",
    "df.columns = ['Store', 'Timestamp', 'Column1', 'Column2', 'Item', 'Column3', 'Column4', 'Column5', 'Column6','Column7']\n",
    "df['Item'] = df['Item'].astype(str)"
   ]
  },
  {
   "cell_type": "code",
   "execution_count": 62,
   "id": "0b616258",
   "metadata": {},
   "outputs": [
    {
     "data": {
      "text/html": [
       "<div>\n",
       "<style scoped>\n",
       "    .dataframe tbody tr th:only-of-type {\n",
       "        vertical-align: middle;\n",
       "    }\n",
       "\n",
       "    .dataframe tbody tr th {\n",
       "        vertical-align: top;\n",
       "    }\n",
       "\n",
       "    .dataframe thead th {\n",
       "        text-align: right;\n",
       "    }\n",
       "</style>\n",
       "<table border=\"1\" class=\"dataframe\">\n",
       "  <thead>\n",
       "    <tr style=\"text-align: right;\">\n",
       "      <th></th>\n",
       "      <th>Store</th>\n",
       "      <th>Timestamp</th>\n",
       "      <th>Column1</th>\n",
       "      <th>Column2</th>\n",
       "      <th>Item</th>\n",
       "      <th>Column3</th>\n",
       "      <th>Column4</th>\n",
       "      <th>Column5</th>\n",
       "      <th>Column6</th>\n",
       "      <th>Column7</th>\n",
       "    </tr>\n",
       "  </thead>\n",
       "  <tbody>\n",
       "    <tr>\n",
       "      <th>0</th>\n",
       "      <td>1400335</td>\n",
       "      <td>20230716083800</td>\n",
       "      <td>NaN</td>\n",
       "      <td>NaN</td>\n",
       "      <td>21635000000</td>\n",
       "      <td>W</td>\n",
       "      <td>1.05</td>\n",
       "      <td>7.34</td>\n",
       "      <td>NaN</td>\n",
       "      <td>NaN</td>\n",
       "    </tr>\n",
       "    <tr>\n",
       "      <th>1</th>\n",
       "      <td>1400335</td>\n",
       "      <td>20230716083800</td>\n",
       "      <td>NaN</td>\n",
       "      <td>NaN</td>\n",
       "      <td>22594100000</td>\n",
       "      <td>W</td>\n",
       "      <td>0.56</td>\n",
       "      <td>7.83</td>\n",
       "      <td>NaN</td>\n",
       "      <td>NaN</td>\n",
       "    </tr>\n",
       "    <tr>\n",
       "      <th>2</th>\n",
       "      <td>1400335</td>\n",
       "      <td>20230716083800</td>\n",
       "      <td>NaN</td>\n",
       "      <td>NaN</td>\n",
       "      <td>23583540000</td>\n",
       "      <td>W</td>\n",
       "      <td>1.07</td>\n",
       "      <td>10.15</td>\n",
       "      <td>NaN</td>\n",
       "      <td>NaN</td>\n",
       "    </tr>\n",
       "    <tr>\n",
       "      <th>3</th>\n",
       "      <td>1400335</td>\n",
       "      <td>20230716084900</td>\n",
       "      <td>NaN</td>\n",
       "      <td>NaN</td>\n",
       "      <td>23710010000</td>\n",
       "      <td>W</td>\n",
       "      <td>0.91</td>\n",
       "      <td>5.45</td>\n",
       "      <td>NaN</td>\n",
       "      <td>NaN</td>\n",
       "    </tr>\n",
       "    <tr>\n",
       "      <th>4</th>\n",
       "      <td>1400335</td>\n",
       "      <td>20230716091000</td>\n",
       "      <td>NaN</td>\n",
       "      <td>NaN</td>\n",
       "      <td>20564890000</td>\n",
       "      <td>W</td>\n",
       "      <td>0.73</td>\n",
       "      <td>7.66</td>\n",
       "      <td>NaN</td>\n",
       "      <td>NaN</td>\n",
       "    </tr>\n",
       "  </tbody>\n",
       "</table>\n",
       "</div>"
      ],
      "text/plain": [
       "     Store       Timestamp  Column1  Column2         Item Column3  Column4  \\\n",
       "0  1400335  20230716083800      NaN      NaN  21635000000       W     1.05   \n",
       "1  1400335  20230716083800      NaN      NaN  22594100000       W     0.56   \n",
       "2  1400335  20230716083800      NaN      NaN  23583540000       W     1.07   \n",
       "3  1400335  20230716084900      NaN      NaN  23710010000       W     0.91   \n",
       "4  1400335  20230716091000      NaN      NaN  20564890000       W     0.73   \n",
       "\n",
       "   Column5  Column6  Column7  \n",
       "0     7.34      NaN      NaN  \n",
       "1     7.83      NaN      NaN  \n",
       "2    10.15      NaN      NaN  \n",
       "3     5.45      NaN      NaN  \n",
       "4     7.66      NaN      NaN  "
      ]
     },
     "execution_count": 62,
     "metadata": {},
     "output_type": "execute_result"
    }
   ],
   "source": [
    "df.head()"
   ]
  },
  {
   "cell_type": "code",
   "execution_count": 63,
   "id": "8a7e7795",
   "metadata": {},
   "outputs": [],
   "source": [
    "# Define the list of items to filter\n",
    "item_list = [\"22808800000\" ,'26859300000','0026859300000',\"23858800000\" ,\"23889500000\" ,\"26807200000\" ,\"26807400000\" ,\"26807600000\" ,\"26807800000\" ,\"26859000000\" ,\"26859300000\" ,\"26865400000\" ,\"26865500000\" ,\"26871000000\" ,\"26889700000\" ,\"26908100000\" ,\"26908900000\" ,\"26909000000\" ,\"26909100000\" ,\"26910100000\" ,\"26911000000\" ,\"26911400000\" ,\"26912400000\" ,\"26913700000\" ,\"26916800000\" ,\"26917300000\" ,\"26918200000\" ,\"26918300000\" ,\"26919000000\" ,\"26919200000\" ,\"26924200000\" ,\"26924300000\" ,\"28807400000\" ,\"28807600000\" ,\"28889500000\"]\n",
    "item_list = [str(item) for item in item_list] "
   ]
  },
  {
   "cell_type": "code",
   "execution_count": 64,
   "id": "9c570916",
   "metadata": {},
   "outputs": [],
   "source": [
    "# Filter rows based on the store code\n",
    "store_code = '1400444'\n",
    "store_code = store_code.strip()  # Remove leading/trailing spaces\n",
    "df['Store'] = df['Store'].astype(str).str.strip()"
   ]
  },
  {
   "cell_type": "code",
   "execution_count": 65,
   "id": "f8054018",
   "metadata": {},
   "outputs": [],
   "source": [
    "filtered_df = df[(df['Store'] == store_code) & (df['Item'].isin(item_list))]"
   ]
  },
  {
   "cell_type": "code",
   "execution_count": 66,
   "id": "2f2d27a8",
   "metadata": {},
   "outputs": [
    {
     "data": {
      "text/html": [
       "<div>\n",
       "<style scoped>\n",
       "    .dataframe tbody tr th:only-of-type {\n",
       "        vertical-align: middle;\n",
       "    }\n",
       "\n",
       "    .dataframe tbody tr th {\n",
       "        vertical-align: top;\n",
       "    }\n",
       "\n",
       "    .dataframe thead th {\n",
       "        text-align: right;\n",
       "    }\n",
       "</style>\n",
       "<table border=\"1\" class=\"dataframe\">\n",
       "  <thead>\n",
       "    <tr style=\"text-align: right;\">\n",
       "      <th></th>\n",
       "      <th>Store</th>\n",
       "      <th>Timestamp</th>\n",
       "      <th>Column1</th>\n",
       "      <th>Column2</th>\n",
       "      <th>Item</th>\n",
       "      <th>Column3</th>\n",
       "      <th>Column4</th>\n",
       "      <th>Column5</th>\n",
       "      <th>Column6</th>\n",
       "      <th>Column7</th>\n",
       "    </tr>\n",
       "  </thead>\n",
       "  <tbody>\n",
       "    <tr>\n",
       "      <th>24949</th>\n",
       "      <td>1400444</td>\n",
       "      <td>20230716090100</td>\n",
       "      <td>NaN</td>\n",
       "      <td>NaN</td>\n",
       "      <td>26917300000</td>\n",
       "      <td>W</td>\n",
       "      <td>1.04</td>\n",
       "      <td>12.47</td>\n",
       "      <td>NaN</td>\n",
       "      <td>NaN</td>\n",
       "    </tr>\n",
       "    <tr>\n",
       "      <th>24950</th>\n",
       "      <td>1400444</td>\n",
       "      <td>20230716090100</td>\n",
       "      <td>NaN</td>\n",
       "      <td>NaN</td>\n",
       "      <td>26917300000</td>\n",
       "      <td>W</td>\n",
       "      <td>0.90</td>\n",
       "      <td>10.79</td>\n",
       "      <td>NaN</td>\n",
       "      <td>NaN</td>\n",
       "    </tr>\n",
       "    <tr>\n",
       "      <th>24951</th>\n",
       "      <td>1400444</td>\n",
       "      <td>20230716090100</td>\n",
       "      <td>NaN</td>\n",
       "      <td>NaN</td>\n",
       "      <td>26917300000</td>\n",
       "      <td>W</td>\n",
       "      <td>1.04</td>\n",
       "      <td>12.47</td>\n",
       "      <td>NaN</td>\n",
       "      <td>NaN</td>\n",
       "    </tr>\n",
       "    <tr>\n",
       "      <th>24952</th>\n",
       "      <td>1400444</td>\n",
       "      <td>20230716090100</td>\n",
       "      <td>NaN</td>\n",
       "      <td>NaN</td>\n",
       "      <td>26917300000</td>\n",
       "      <td>W</td>\n",
       "      <td>0.90</td>\n",
       "      <td>10.79</td>\n",
       "      <td>NaN</td>\n",
       "      <td>NaN</td>\n",
       "    </tr>\n",
       "    <tr>\n",
       "      <th>24989</th>\n",
       "      <td>1400444</td>\n",
       "      <td>20230716091800</td>\n",
       "      <td>NaN</td>\n",
       "      <td>NaN</td>\n",
       "      <td>26859300000</td>\n",
       "      <td>W</td>\n",
       "      <td>0.96</td>\n",
       "      <td>11.51</td>\n",
       "      <td>NaN</td>\n",
       "      <td>NaN</td>\n",
       "    </tr>\n",
       "  </tbody>\n",
       "</table>\n",
       "</div>"
      ],
      "text/plain": [
       "         Store       Timestamp  Column1  Column2         Item Column3  \\\n",
       "24949  1400444  20230716090100      NaN      NaN  26917300000       W   \n",
       "24950  1400444  20230716090100      NaN      NaN  26917300000       W   \n",
       "24951  1400444  20230716090100      NaN      NaN  26917300000       W   \n",
       "24952  1400444  20230716090100      NaN      NaN  26917300000       W   \n",
       "24989  1400444  20230716091800      NaN      NaN  26859300000       W   \n",
       "\n",
       "       Column4  Column5  Column6  Column7  \n",
       "24949     1.04    12.47      NaN      NaN  \n",
       "24950     0.90    10.79      NaN      NaN  \n",
       "24951     1.04    12.47      NaN      NaN  \n",
       "24952     0.90    10.79      NaN      NaN  \n",
       "24989     0.96    11.51      NaN      NaN  "
      ]
     },
     "execution_count": 66,
     "metadata": {},
     "output_type": "execute_result"
    }
   ],
   "source": [
    "filtered_df.head()"
   ]
  },
  {
   "cell_type": "code",
   "execution_count": 67,
   "id": "066f62d3",
   "metadata": {},
   "outputs": [],
   "source": [
    "sorted_df = filtered_df.sort_values(by=['Item'])"
   ]
  },
  {
   "cell_type": "code",
   "execution_count": 68,
   "id": "6fd174f2",
   "metadata": {},
   "outputs": [],
   "source": [
    "# Extract the timestamp from the file name using regular expressions\n",
    "timestamp = re.search(r'\\d{8}', copied_csv_file).group()"
   ]
  },
  {
   "cell_type": "code",
   "execution_count": 69,
   "id": "15634f39",
   "metadata": {},
   "outputs": [
    {
     "name": "stdout",
     "output_type": "stream",
     "text": [
      "C:\\Users\\AS81970\\Desktop\\Q2 2023\\FAO Needs\\Converted\\014_adc_pos_daily_20230717.csv\n"
     ]
    }
   ],
   "source": [
    "print(copied_csv_file)"
   ]
  },
  {
   "cell_type": "code",
   "execution_count": 70,
   "id": "70df8e89",
   "metadata": {},
   "outputs": [
    {
     "name": "stdout",
     "output_type": "stream",
     "text": [
      "20230717\n"
     ]
    }
   ],
   "source": [
    "print(timestamp)"
   ]
  },
  {
   "cell_type": "code",
   "execution_count": 71,
   "id": "6492ca2f",
   "metadata": {},
   "outputs": [
    {
     "name": "stderr",
     "output_type": "stream",
     "text": [
      "C:\\Users\\AS81970\\AppData\\Local\\Temp\\ipykernel_23172\\4187051172.py:25: FutureWarning: save is not part of the public API, usage can give unexpected results and will be removed in a future version\n",
      "  writer.save()\n"
     ]
    }
   ],
   "source": [
    "# Define the Excel file name with the timestamp\n",
    "excel_file_name = f'SF_1400444_{timestamp}.xlsx'\n",
    "\n",
    "# Define the output directory path\n",
    "output_directory = r'C:\\Users\\AS81970\\Desktop\\Q2 2023\\FAO Needs\\Reports\\\\'\n",
    "\n",
    "# Combine the output directory path and the excel file name\n",
    "full_file_path = os.path.join(output_directory, excel_file_name)\n",
    "\n",
    "# Create a Pandas Excel writer\n",
    "writer = pd.ExcelWriter(full_file_path, engine='xlsxwriter')\n",
    "\n",
    "# Save the sorted DataFrame to the Excel file with custom number format\n",
    "sorted_df.to_excel(writer, index=False, sheet_name='Sheet1')\n",
    "\n",
    "# Get the workbook and worksheet objects\n",
    "workbook = writer.book\n",
    "worksheet = writer.sheets['Sheet1']\n",
    "\n",
    "# Set the number format for the timestamp column\n",
    "timestamp_format = workbook.add_format({'num_format': '0'})\n",
    "worksheet.set_column('B:B', None, timestamp_format)\n",
    "\n",
    "# Close the Pandas Excel writer\n",
    "writer.save()\n",
    "\n"
   ]
  },
  {
   "cell_type": "code",
   "execution_count": null,
   "id": "4aeba952",
   "metadata": {},
   "outputs": [],
   "source": []
  }
 ],
 "metadata": {
  "kernelspec": {
   "display_name": "venv",
   "language": "python",
   "name": "venv"
  },
  "language_info": {
   "codemirror_mode": {
    "name": "ipython",
    "version": 3
   },
   "file_extension": ".py",
   "mimetype": "text/x-python",
   "name": "python",
   "nbconvert_exporter": "python",
   "pygments_lexer": "ipython3",
   "version": "3.9.5"
  }
 },
 "nbformat": 4,
 "nbformat_minor": 5
}
